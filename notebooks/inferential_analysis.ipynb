{
 "cells": [
  {
   "cell_type": "markdown",
   "metadata": {},
   "source": [
    "# Inferential Analysis Notebook"
   ]
  },
  {
   "cell_type": "markdown",
   "metadata": {},
   "source": [
    "## Overview\n",
    "The inferential analysis in this notebook will explore statistically significant relationships within the Utah real estate dataset. By performing hypothesis tests, we aim to determine the impact of key property attributes, such as the number of bedrooms, lot size, and presence of a garage, on listing prices. This analysis will help identify which features hold genuine predictive power and are not just coincidentally related to price, setting the stage for more accurate predictive modeling in the following steps."
   ]
  },
  {
   "cell_type": "markdown",
   "metadata": {},
   "source": [
    "## Inferential Analysis Questions\n",
    "- Does the number of bedrooms significantly affect the listing price?\n",
    "- Is there a significant difference in listing prices for properties built before vs. after 2000?\n",
    "- Do properties with larger lot sizes (lot_sqft) command higher listing prices?\n",
    "- Does having a garage significantly influence the listing price?\n",
    "- Is there a significant difference in prices across different property types?\n"
   ]
  },
  {
   "cell_type": "markdown",
   "metadata": {},
   "source": [
    "### Hypothesis Tests"
   ]
  },
  {
   "cell_type": "code",
   "execution_count": 16,
   "metadata": {},
   "outputs": [],
   "source": [
    "#Imports \n",
    "import pandas as pd\n",
    "from scipy.stats import f_oneway, ttest_ind"
   ]
  },
  {
   "cell_type": "code",
   "execution_count": 17,
   "metadata": {},
   "outputs": [],
   "source": [
    "#Loading the Clean & Transformed Data\n",
    "path = ('../data/cleaned_real_estate_utah.csv')\n",
    "cleanedrs_data = pd.read_csv(path)"
   ]
  },
  {
   "cell_type": "markdown",
   "metadata": {},
   "source": [
    "### Does the number of bedrooms significantly affect the listing price?\n",
    "\n",
    "Hypotheses:\n",
    "\n",
    "- Null Hypothesis (H0): The average listing price does not significantly differ between properties with different numbers of bedrooms.\n",
    "- Alternate Hypothesis (H1): The average listing price differs significantly between properties with different numbers of bedrooms.\n",
    "\n",
    "**Test:** We use an ANOVA (Analysis of Variance) test since we are comparing the mean prices across multiple groups (different bedroom counts).\n"
   ]
  },
  {
   "cell_type": "code",
   "execution_count": 18,
   "metadata": {},
   "outputs": [
    {
     "name": "stdout",
     "output_type": "stream",
     "text": [
      "ANOVA Test for Bedrooms and Listing Price:\n",
      "Statistic: 70.30960792986622\n",
      "P-value: 6.754403814141851e-146\n"
     ]
    }
   ],
   "source": [
    "# Group prices by number of bedrooms\n",
    "groups = [group[\"listPrice\"].values for name, group in cleanedrs_data.groupby(\"beds\")]\n",
    "\n",
    "#Perform the ANOVA test to compare average prices across bedroom groups\n",
    "stat, p_value = f_oneway(*groups)\n",
    "\n",
    "#Results\n",
    "print(\"ANOVA Test for Bedrooms and Listing Price:\")\n",
    "print(\"Statistic:\", stat)\n",
    "print(\"P-value:\", p_value)"
   ]
  },
  {
   "cell_type": "markdown",
   "metadata": {},
   "source": [
    "With a p-value of 6.754e-146, which is far below 0.05, we reject the null hypothesis. This result suggests that the number of bedrooms does significantly affect the listing price. In practical terms, properties with different numbers of bedrooms generally have different average prices, meaning buyers might pay more as bedroom count increases."
   ]
  },
  {
   "cell_type": "markdown",
   "metadata": {},
   "source": [
    "### Is There a Significant Difference in Listing Prices for Properties Built Before vs. After 2000?\n",
    "\n",
    "Hypotheses:\n",
    "\n",
    "- Null Hypothesis (H0): The average listing price for properties built before 2000 is not significantly different from properties built after 2000.\n",
    "- Alternate Hypothesis (H1): The average listing price for properties built before 2000 is significantly different from properties built after 2000.\n",
    "\n",
    "**Test:** Since we are comparing the mean prices between two independent groups (before and after 2000), a t-test is appropriate."
   ]
  },
  {
   "cell_type": "code",
   "execution_count": 19,
   "metadata": {},
   "outputs": [
    {
     "name": "stdout",
     "output_type": "stream",
     "text": [
      "T-test for Year Built and Listing Price:\n",
      "Statistic: -6.864363213577033\n",
      "P-value: 7.60168749569103e-12\n"
     ]
    }
   ],
   "source": [
    "# Divide data into two groups: properties built before 2000 and properties built in or after 2000\n",
    "before_2000 = cleanedrs_data[cleanedrs_data['year_built'] < 2000]['listPrice']\n",
    "after_2000 = cleanedrs_data[cleanedrs_data['year_built'] >= 2000]['listPrice']\n",
    "\n",
    "# Perform the t-test to compare average prices between the two groups\n",
    "stat, p_value = ttest_ind(before_2000, after_2000)\n",
    "\n",
    "#Results\n",
    "print(\"T-test for Year Built and Listing Price:\")\n",
    "print(\"Statistic:\", stat)\n",
    "print(\"P-value:\", p_value)"
   ]
  },
  {
   "cell_type": "markdown",
   "metadata": {},
   "source": [
    "The p-value of 7.602e-12 is well below 0.05, so we reject the null hypothesis. This indicates that properties built before 2000 have a statistically different average listing price compared to those built after 2000. This difference might reflect how property age affects value, with newer homes possibly commanding higher prices."
   ]
  },
  {
   "cell_type": "markdown",
   "metadata": {},
   "source": [
    "### Do Properties with Larger Lot Sizes (lot_sqft) Command Higher Listing Prices?\n",
    "\n",
    "Hypotheses:\n",
    "\n",
    "- Null Hypothesis (H0): There is no significant correlation between lot size and listing price.\n",
    "- Alternate Hypothesis (H1): There is a significant correlation between lot size and listing price.\n",
    "\n",
    "**Test:** We use a correlation test here because we want to examine the relationship between two continuous variables (lot size and listing price)."
   ]
  },
  {
   "cell_type": "code",
   "execution_count": 20,
   "metadata": {},
   "outputs": [
    {
     "name": "stdout",
     "output_type": "stream",
     "text": [
      "Correlation between Lot Size and Listing Price: 0.28764119363384766\n"
     ]
    }
   ],
   "source": [
    "# Calculate the correlation between lot size and listing price\n",
    "correlation = cleanedrs_data['lot_sqft'].corr(cleanedrs_data['listPrice'])\n",
    "\n",
    "#Print the correlation value\n",
    "print(\"Correlation between Lot Size and Listing Price:\", correlation)\n"
   ]
  },
  {
   "cell_type": "markdown",
   "metadata": {},
   "source": [
    "The correlation coefficient of 0.288 suggests a weak positive relationship between lot size and listing price. This means that while larger lot sizes tend to have higher listing prices, the effect is modest, and other factors likely play a stronger role in determining price."
   ]
  },
  {
   "cell_type": "markdown",
   "metadata": {},
   "source": [
    "### Does Having a Garage Significantly Influence the Listing Price?\n",
    "\n",
    "Hypotheses:\n",
    "\n",
    "- Null Hypothesis (H0): The average listing price is not significantly different between properties with and without a garage.\n",
    "- Alternate Hypothesis (H1): The average listing price is significantly different between properties with and without a garage.\n",
    "\n",
    "**Test:** Since we’re comparing two groups (properties with garages and without), a t-test is appropriate.\n"
   ]
  },
  {
   "cell_type": "code",
   "execution_count": 21,
   "metadata": {},
   "outputs": [
    {
     "name": "stdout",
     "output_type": "stream",
     "text": [
      "T-test for Garage Presence and Listing Price:\n",
      "Statistic: 0.43911387665331897\n",
      "P-value: 0.6609644734613036\n"
     ]
    }
   ],
   "source": [
    "# Separate data into properties with garages and without garages\n",
    "garage = cleanedrs_data[cleanedrs_data['garage'] == 1]['listPrice']\n",
    "no_garage = cleanedrs_data[cleanedrs_data['garage'] == 0]['listPrice']\n",
    "\n",
    "# Perform the t-test to compare average prices between properties with and without a garage\n",
    "stat, p_value = ttest_ind(garage, no_garage)\n",
    "\n",
    "#Results\n",
    "print(\"T-test for Garage Presence and Listing Price:\")\n",
    "print(\"Statistic:\", stat)\n",
    "print(\"P-value:\", p_value)\n"
   ]
  },
  {
   "cell_type": "markdown",
   "metadata": {},
   "source": [
    "Since the p-value (0.661) is greater than 0.05, we fail to reject the null hypothesis. This result indicates that there is no statistically significant difference in listing prices between properties with and without garages. In practical terms, having a garage does not appear to affect a property’s listing price, suggesting that buyers may not place much value on a garage when determining what they’re willing to pay."
   ]
  },
  {
   "cell_type": "markdown",
   "metadata": {},
   "source": [
    "### Is there a significant difference in prices across different property types?\n",
    "\n",
    "Hypotheses:\n",
    "\n",
    "- Null Hypothesis (H0): The average listing price does not significantly differ between different property types.\n",
    "- Alternate Hypothesis (H1): The average listing price differs significantly between different property types.\n",
    "\n",
    "**Test**: Since we're comparing mean prices across multiple groups an ANOVA test is the most appropriate.\n"
   ]
  },
  {
   "cell_type": "code",
   "execution_count": 22,
   "metadata": {},
   "outputs": [
    {
     "name": "stdout",
     "output_type": "stream",
     "text": [
      "ANOVA Test for Property Type and Listing Price:\n",
      "Statistic: 28.019234787925548\n",
      "P-value: 1.3104889924714247e-52\n"
     ]
    }
   ],
   "source": [
    "# Group prices by property type\n",
    "groups = [group[\"listPrice\"].values for name, group in cleanedrs_data.groupby(\"type\")]\n",
    "\n",
    "# Perform the ANOVA test to see if property type impacts price\n",
    "stat, p_value = f_oneway(*groups)\n",
    "\n",
    "# Print the test statistic and p-value\n",
    "print(\"ANOVA Test for Property Type and Listing Price:\")\n",
    "print(\"Statistic:\", stat)\n",
    "print(\"P-value:\", p_value)\n"
   ]
  },
  {
   "cell_type": "markdown",
   "metadata": {},
   "source": [
    "With a very low p-value (1.310e-52), far below 0.05, we reject the null hypothesis. This result suggests a statistically significant difference in listing prices across different property types. This means that property types, such as single-family homes, condos, and townhouses, do have distinct average prices, likely due to different features, sizes, or amenities that appeal to buyers differently."
   ]
  },
  {
   "cell_type": "markdown",
   "metadata": {},
   "source": [
    "## Non-Technical Summary of Findings"
   ]
  },
  {
   "cell_type": "markdown",
   "metadata": {},
   "source": [
    "1. Bedroom Count: The number of bedrooms significantly impacts property prices. Homes with more bedrooms tend to have higher prices, likely because they offer more space, which is generally more attractive to buyers.\n",
    "\n",
    "2. Year Built: There is a notable price difference between properties built before 2000 and those built after. Newer homes seem to have higher values, possibly because they require less maintenance or have modern features that buyers want.\n",
    "\n",
    "3. Lot Size: Although larger lots are somewhat more expensive, the impact of lot size on price is relatively weak. This suggests that factors other than lot size play a more important role in setting property prices.\n",
    "\n",
    "4. Garage Presence: Surprisingly, having a garage does not significantly affect listing price. This means buyers are generally not willing to pay more just because a property has a garage.\n",
    "\n",
    "5. Property Type: Different types of properties, like single-family homes, condos, and townhouses, have significantly different average prices. This reflects that buyers value these property types differently, possibly due to their unique features or the lifestyles they support.\n",
    "\n",
    "These findings provide insights into what truly affects property values. While factors like the number of bedrooms, property age, and type have strong impacts on listing prices, others, like lot size and garage presence, seem less important. This information can be valuable for buyers, sellers, and real estate professionals in making informed decisions about property values and investments."
   ]
  }
 ],
 "metadata": {
  "kernelspec": {
   "display_name": "cohort_env",
   "language": "python",
   "name": "python3"
  },
  "language_info": {
   "codemirror_mode": {
    "name": "ipython",
    "version": 3
   },
   "file_extension": ".py",
   "mimetype": "text/x-python",
   "name": "python",
   "nbconvert_exporter": "python",
   "pygments_lexer": "ipython3",
   "version": "3.12.5"
  }
 },
 "nbformat": 4,
 "nbformat_minor": 2
}
