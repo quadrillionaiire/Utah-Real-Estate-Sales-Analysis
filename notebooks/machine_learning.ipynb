{
 "cells": [
  {
   "cell_type": "markdown",
   "metadata": {},
   "source": [
    "# Machine Learning Analysis"
   ]
  },
  {
   "cell_type": "markdown",
   "metadata": {},
   "source": [
    "## Overview\n",
    "\n",
    "The goal of this machine learning analysis is to develop a predictive model for estimating real estate listing prices in Utah. We’ll employ a variety of regression techniques, including Linear Regression, Decision Trees, and Ensemble methods, to assess model accuracy and identify the best predictors of property price. By refining the model with features such as price-per-square-foot and property age, we aim to provide accurate and actionable insights that real estate professionals, investors, and analysts can use to gauge property values effectively.\n",
    "\n",
    "As a reminder goal is to find out:\n",
    "\n",
    "- Which features best predict listing prices.\n",
    "- How accurately different models can predict these prices.\n",
    "- How much we can improve accuracy by tuning models."
   ]
  },
  {
   "cell_type": "markdown",
   "metadata": {},
   "source": [
    "## Machine Learning Analysis Questions\n",
    "- What are the best predictors of listing price among the property features?\n",
    "- How accurately can we predict the list price based on property attributes?\n",
    "- How do different regression models compare in predicting the listing price?\n",
    "- What are the residuals and their distribution for the best-performing model?\n",
    "- Does model performance improve significantly with hyperparameter tuning?"
   ]
  },
  {
   "cell_type": "markdown",
   "metadata": {},
   "source": [
    "### Data Preparation\n",
    "\n",
    "Data preparation is a crucial step where we get our data ready for modeling. This includes dividing the data into training and testing sets, scaling (or resizing) the numerical data, and encoding (or converting) the categorical data (like property type) into a format the model can understand."
   ]
  },
  {
   "cell_type": "code",
   "execution_count": 74,
   "metadata": {},
   "outputs": [],
   "source": [
    "#Imports \n",
    "import pandas as pd\n",
    "import numpy as np\n",
    "import matplotlib.pyplot as plt\n",
    "\n",
    "from sklearn.model_selection import train_test_split\n",
    "from sklearn.preprocessing import StandardScaler\n",
    "from sklearn.preprocessing import OneHotEncoder\n",
    "from sklearn.compose import ColumnTransformer\n",
    "\n",
    "from sklearn.linear_model import LinearRegression, Ridge, Lasso\n",
    "from sklearn.tree import DecisionTreeRegressor\n",
    "from sklearn.ensemble import RandomForestRegressor, GradientBoostingRegressor\n",
    "from sklearn.neighbors import KNeighborsRegressor\n",
    "\n",
    "from sklearn.model_selection import cross_val_score\n",
    "from sklearn.metrics import mean_absolute_error, mean_squared_error, r2_score\n",
    "from sklearn.model_selection import GridSearchCV\n"
   ]
  },
  {
   "cell_type": "code",
   "execution_count": 75,
   "metadata": {},
   "outputs": [],
   "source": [
    "#Loading the Clean & Transformed Data\n",
    "path = ('../data/cleaned_real_estate_utah.csv')\n",
    "cleanedrs_data = pd.read_csv(path)"
   ]
  },
  {
   "cell_type": "code",
   "execution_count": 76,
   "metadata": {},
   "outputs": [
    {
     "data": {
      "text/html": [
       "<div>\n",
       "<style scoped>\n",
       "    .dataframe tbody tr th:only-of-type {\n",
       "        vertical-align: middle;\n",
       "    }\n",
       "\n",
       "    .dataframe tbody tr th {\n",
       "        vertical-align: top;\n",
       "    }\n",
       "\n",
       "    .dataframe thead th {\n",
       "        text-align: right;\n",
       "    }\n",
       "</style>\n",
       "<table border=\"1\" class=\"dataframe\">\n",
       "  <thead>\n",
       "    <tr style=\"text-align: right;\">\n",
       "      <th></th>\n",
       "      <th>type</th>\n",
       "      <th>text</th>\n",
       "      <th>year_built</th>\n",
       "      <th>beds</th>\n",
       "      <th>baths</th>\n",
       "      <th>baths_full</th>\n",
       "      <th>baths_half</th>\n",
       "      <th>garage</th>\n",
       "      <th>lot_sqft</th>\n",
       "      <th>sqft</th>\n",
       "      <th>...</th>\n",
       "      <th>type_condo_townhome_rowhome_coop</th>\n",
       "      <th>type_condos</th>\n",
       "      <th>type_farm</th>\n",
       "      <th>type_land</th>\n",
       "      <th>type_mobile</th>\n",
       "      <th>type_other</th>\n",
       "      <th>type_single_family</th>\n",
       "      <th>type_townhomes</th>\n",
       "      <th>type_townhouse</th>\n",
       "      <th>status_encoded</th>\n",
       "    </tr>\n",
       "  </thead>\n",
       "  <tbody>\n",
       "    <tr>\n",
       "      <th>0</th>\n",
       "      <td>single_family</td>\n",
       "      <td>Escape to tranquility with this off-grid, unfi...</td>\n",
       "      <td>2020.0</td>\n",
       "      <td>1.0</td>\n",
       "      <td>1.0</td>\n",
       "      <td>1.0</td>\n",
       "      <td>1.0</td>\n",
       "      <td>2.0</td>\n",
       "      <td>71438.0</td>\n",
       "      <td>696.0</td>\n",
       "      <td>...</td>\n",
       "      <td>False</td>\n",
       "      <td>False</td>\n",
       "      <td>False</td>\n",
       "      <td>False</td>\n",
       "      <td>False</td>\n",
       "      <td>False</td>\n",
       "      <td>True</td>\n",
       "      <td>False</td>\n",
       "      <td>False</td>\n",
       "      <td>0</td>\n",
       "    </tr>\n",
       "    <tr>\n",
       "      <th>1</th>\n",
       "      <td>single_family</td>\n",
       "      <td>Beautiful home in the desirable Oak Hills and ...</td>\n",
       "      <td>1968.0</td>\n",
       "      <td>4.0</td>\n",
       "      <td>3.0</td>\n",
       "      <td>2.0</td>\n",
       "      <td>1.0</td>\n",
       "      <td>2.0</td>\n",
       "      <td>56628.0</td>\n",
       "      <td>3700.0</td>\n",
       "      <td>...</td>\n",
       "      <td>False</td>\n",
       "      <td>False</td>\n",
       "      <td>False</td>\n",
       "      <td>False</td>\n",
       "      <td>False</td>\n",
       "      <td>False</td>\n",
       "      <td>True</td>\n",
       "      <td>False</td>\n",
       "      <td>False</td>\n",
       "      <td>0</td>\n",
       "    </tr>\n",
       "    <tr>\n",
       "      <th>2</th>\n",
       "      <td>single_family</td>\n",
       "      <td>Welcome to your new home, nestled in the heart...</td>\n",
       "      <td>1985.0</td>\n",
       "      <td>4.0</td>\n",
       "      <td>3.0</td>\n",
       "      <td>3.0</td>\n",
       "      <td>1.0</td>\n",
       "      <td>1.0</td>\n",
       "      <td>10019.0</td>\n",
       "      <td>3528.0</td>\n",
       "      <td>...</td>\n",
       "      <td>False</td>\n",
       "      <td>False</td>\n",
       "      <td>False</td>\n",
       "      <td>False</td>\n",
       "      <td>False</td>\n",
       "      <td>False</td>\n",
       "      <td>True</td>\n",
       "      <td>False</td>\n",
       "      <td>False</td>\n",
       "      <td>0</td>\n",
       "    </tr>\n",
       "    <tr>\n",
       "      <th>3</th>\n",
       "      <td>single_family</td>\n",
       "      <td>Investment Opportunity. House needs some work ...</td>\n",
       "      <td>1936.0</td>\n",
       "      <td>4.0</td>\n",
       "      <td>2.0</td>\n",
       "      <td>2.0</td>\n",
       "      <td>1.0</td>\n",
       "      <td>2.0</td>\n",
       "      <td>12632.0</td>\n",
       "      <td>2097.0</td>\n",
       "      <td>...</td>\n",
       "      <td>False</td>\n",
       "      <td>False</td>\n",
       "      <td>False</td>\n",
       "      <td>False</td>\n",
       "      <td>False</td>\n",
       "      <td>False</td>\n",
       "      <td>True</td>\n",
       "      <td>False</td>\n",
       "      <td>False</td>\n",
       "      <td>0</td>\n",
       "    </tr>\n",
       "    <tr>\n",
       "      <th>4</th>\n",
       "      <td>land</td>\n",
       "      <td>Deer Springs Ranch is an 8000 Ac Ranch in an H...</td>\n",
       "      <td>2003.0</td>\n",
       "      <td>4.0</td>\n",
       "      <td>0.0</td>\n",
       "      <td>2.0</td>\n",
       "      <td>1.0</td>\n",
       "      <td>2.0</td>\n",
       "      <td>872071.0</td>\n",
       "      <td>2400.0</td>\n",
       "      <td>...</td>\n",
       "      <td>False</td>\n",
       "      <td>False</td>\n",
       "      <td>False</td>\n",
       "      <td>True</td>\n",
       "      <td>False</td>\n",
       "      <td>False</td>\n",
       "      <td>False</td>\n",
       "      <td>False</td>\n",
       "      <td>False</td>\n",
       "      <td>0</td>\n",
       "    </tr>\n",
       "  </tbody>\n",
       "</table>\n",
       "<p>5 rows × 29 columns</p>\n",
       "</div>"
      ],
      "text/plain": [
       "            type                                               text  \\\n",
       "0  single_family  Escape to tranquility with this off-grid, unfi...   \n",
       "1  single_family  Beautiful home in the desirable Oak Hills and ...   \n",
       "2  single_family  Welcome to your new home, nestled in the heart...   \n",
       "3  single_family  Investment Opportunity. House needs some work ...   \n",
       "4           land  Deer Springs Ranch is an 8000 Ac Ranch in an H...   \n",
       "\n",
       "   year_built  beds  baths  baths_full  baths_half  garage  lot_sqft    sqft  \\\n",
       "0      2020.0   1.0    1.0         1.0         1.0     2.0   71438.0   696.0   \n",
       "1      1968.0   4.0    3.0         2.0         1.0     2.0   56628.0  3700.0   \n",
       "2      1985.0   4.0    3.0         3.0         1.0     1.0   10019.0  3528.0   \n",
       "3      1936.0   4.0    2.0         2.0         1.0     2.0   12632.0  2097.0   \n",
       "4      2003.0   4.0    0.0         2.0         1.0     2.0  872071.0  2400.0   \n",
       "\n",
       "   ...  type_condo_townhome_rowhome_coop type_condos  type_farm type_land  \\\n",
       "0  ...                             False       False      False     False   \n",
       "1  ...                             False       False      False     False   \n",
       "2  ...                             False       False      False     False   \n",
       "3  ...                             False       False      False     False   \n",
       "4  ...                             False       False      False      True   \n",
       "\n",
       "   type_mobile  type_other type_single_family  type_townhomes  type_townhouse  \\\n",
       "0        False       False               True           False           False   \n",
       "1        False       False               True           False           False   \n",
       "2        False       False               True           False           False   \n",
       "3        False       False               True           False           False   \n",
       "4        False       False              False           False           False   \n",
       "\n",
       "   status_encoded  \n",
       "0               0  \n",
       "1               0  \n",
       "2               0  \n",
       "3               0  \n",
       "4               0  \n",
       "\n",
       "[5 rows x 29 columns]"
      ]
     },
     "execution_count": 76,
     "metadata": {},
     "output_type": "execute_result"
    }
   ],
   "source": [
    "cleanedrs_data.head()"
   ]
  },
  {
   "cell_type": "markdown",
   "metadata": {},
   "source": [
    "### Defining X and y\n",
    "In the data preparation for machine learning, we need to specify:\n",
    "\n",
    "- X: The features or independent variables, which will include all relevant property attributes that may predict listing price (like square footage, number of bedrooms, and any encoded columns for categorical features).\n",
    "- y: The target or dependent variable, which in this case is the listing price (listPrice), as we are trying to predict this value."
   ]
  },
  {
   "cell_type": "code",
   "execution_count": 77,
   "metadata": {},
   "outputs": [],
   "source": [
    "# Define target variable y as the listing price\n",
    "y = cleanedrs_data['listPrice']\n",
    "\n",
    "# Define feature matrix X, selecting only the relevant columns\n",
    "# Here we drop columns that aren't needed for prediction like 'listPrice' and the original categorical columns\n",
    "X = cleanedrs_data.drop([\n",
    "    'listPrice',           # Target variable\n",
    "    'type',                # Original categorical column\n",
    "    'status',              # Original categorical column\n",
    "    'text',                # Text data\n",
    "    'lastSoldOn',          # Date information, potentially unnecessary\n",
    "    'type_comparison',     # Non-numeric comparison column\n",
    "], axis=1)\n"
   ]
  },
  {
   "cell_type": "markdown",
   "metadata": {},
   "source": [
    "We set y to be listPrice, as this is our target variable.\n",
    "X includes all features, but excludes listPrice (since it’s our target) and the original unencoded columns for type and status, as we have already created encoded versions"
   ]
  },
  {
   "cell_type": "markdown",
   "metadata": {},
   "source": [
    "### Splitting Data into Training & Testing Sets:\n",
    "- The training set is used to teach the model.\n",
    "- The testing set checks if the model can accurately predict new, unseen data."
   ]
  },
  {
   "cell_type": "code",
   "execution_count": 78,
   "metadata": {},
   "outputs": [],
   "source": [
    "# Split the data (assuming 'X' are the features and 'y' is the target variable, listPrice)\n",
    "X_train, X_test, y_train, y_test = train_test_split(X, y, test_size=0.2, random_state=42)"
   ]
  },
  {
   "cell_type": "markdown",
   "metadata": {},
   "source": [
    "We use 80% of our data for training and 20% for testing, which is common for predictive modeling."
   ]
  },
  {
   "cell_type": "markdown",
   "metadata": {},
   "source": [
    "### Scaling Numerical Features:\n",
    "- To help the model perform better, we scale features like square footage, which might have a large range."
   ]
  },
  {
   "cell_type": "code",
   "execution_count": 79,
   "metadata": {},
   "outputs": [],
   "source": [
    "# Scale numerical features (fit on train data, transform on both train and test data)\n",
    "scaler = StandardScaler()\n",
    "X_train_scaled = scaler.fit_transform(X_train)\n",
    "X_test_scaled = scaler.transform(X_test)"
   ]
  },
  {
   "cell_type": "markdown",
   "metadata": {},
   "source": [
    "Scaling makes sure that big numbers (like 2000 sqft) don’t overpower smaller numbers, helping the model learn relationships more effectively."
   ]
  },
  {
   "cell_type": "markdown",
   "metadata": {},
   "source": [
    "### Encoding Categorical Features\n",
    "Since we handled encoding earlier, here’s how to confirm we’re using the processed data:\n",
    "\n",
    "type_comparison and any additional one-hot columns we created for type are now in X.\n",
    "status_encoded is also in X, which contains ordinal encoding for the status column.\n",
    "If we did these steps earlier, we don’t need to encode type or status again. We can proceed directly to model training."
   ]
  },
  {
   "cell_type": "code",
   "execution_count": 80,
   "metadata": {},
   "outputs": [],
   "source": [
    "# #Example to Encode Categorical Features (already completed in data cleaning step 2.4)\n",
    "# # Encode categorical features\n",
    "# categorical_features = ['propertyType', 'status']\n",
    "# preprocessor = ColumnTransformer(\n",
    "#     transformers=[\n",
    "#         ('cat', OneHotEncoder(), categorical_features)],\n",
    "#     remainder='passthrough')\n",
    "\n",
    "# X_train_prepared = preprocessor.fit_transform(X_train)\n",
    "# X_test_prepared = preprocessor.transform(X_test)\n"
   ]
  },
  {
   "cell_type": "markdown",
   "metadata": {},
   "source": [
    "Encoding converts text categories into numbers so the model can process them."
   ]
  },
  {
   "cell_type": "code",
   "execution_count": 81,
   "metadata": {},
   "outputs": [],
   "source": [
    "# Convert scaled data back to DataFrames with the original column names for easy reference\n",
    "X_train_prepared = pd.DataFrame(X_train_scaled, columns=X_train.columns)\n",
    "X_test_prepared = pd.DataFrame(X_test_scaled, columns=X_test.columns)"
   ]
  },
  {
   "cell_type": "markdown",
   "metadata": {},
   "source": [
    "Final Structure of X and y\n",
    "This section ensures that we’re only using the encoded columns, without redundancies:"
   ]
  },
  {
   "cell_type": "code",
   "execution_count": 82,
   "metadata": {},
   "outputs": [
    {
     "name": "stdout",
     "output_type": "stream",
     "text": [
      "Features (X): Index(['year_built', 'beds', 'baths', 'baths_full', 'baths_half', 'garage',\n",
      "       'lot_sqft', 'sqft', 'stories', 'sold_year', 'sold_month', 'type_condo',\n",
      "       'type_condo_townhome', 'type_condo_townhome_rowhome_coop',\n",
      "       'type_condos', 'type_farm', 'type_land', 'type_mobile', 'type_other',\n",
      "       'type_single_family', 'type_townhomes', 'type_townhouse',\n",
      "       'status_encoded'],\n",
      "      dtype='object')\n",
      "Target (y): listPrice\n"
     ]
    }
   ],
   "source": [
    "# Print a summary of X and y to verify\n",
    "print(\"Features (X):\", X.columns)\n",
    "print(\"Target (y):\", y.name)\n"
   ]
  },
  {
   "cell_type": "markdown",
   "metadata": {},
   "source": [
    "This step confirms the columns in X match our expectations for the features we want to include and are ready for training.\n",
    "\n",
    "By following these adjustments, our machine learning model should now use the prepared data directly, with all required encoding already applied. This approach keeps the workflow clean and efficient without duplicating steps."
   ]
  },
  {
   "cell_type": "markdown",
   "metadata": {},
   "source": [
    "### Modeling\n",
    "In this step, we’ll train several models to see which ones perform best. A “shotgun approach” means we test many models to find which gives the best initial results."
   ]
  },
  {
   "cell_type": "markdown",
   "metadata": {},
   "source": [
    "### Train Multiple Regression Models:\n",
    "- We’ll train six to eight base models and evaluate their performance. Common models include:\n",
    "  - Linear Regression\n",
    "  - Decision Tree Regressor\n",
    "  - Random Forest Regressor\n",
    "  - Gradient Boosting Regressor\n",
    "  - Ridge and Lasso Regression (for regularization)\n",
    "  - K-Nearest Neighbors Regressor"
   ]
  },
  {
   "cell_type": "code",
   "execution_count": 83,
   "metadata": {},
   "outputs": [
    {
     "name": "stdout",
     "output_type": "stream",
     "text": [
      "Linear Regression score: 0.5360459654684752\n",
      "Ridge Regression score: 0.5361082110017976\n",
      "Lasso Regression score: 0.5360919527391212\n",
      "Decision Tree score: 0.41220759813799734\n"
     ]
    },
    {
     "name": "stderr",
     "output_type": "stream",
     "text": [
      "/opt/anaconda3/envs/cohort_env/lib/python3.12/site-packages/sklearn/linear_model/_coordinate_descent.py:697: ConvergenceWarning: Objective did not converge. You might want to increase the number of iterations, check the scale of the features or consider increasing regularisation. Duality gap: 1.382e+13, tolerance: 2.802e+11\n",
      "  model = cd_fast.enet_coordinate_descent(\n"
     ]
    },
    {
     "name": "stdout",
     "output_type": "stream",
     "text": [
      "Random Forest score: 0.6143503225012876\n",
      "Gradient Boosting score: 0.6572808477831558\n",
      "K-Nearest Neighbors score: 0.46418911652748573\n"
     ]
    }
   ],
   "source": [
    "# Initialize models\n",
    "models = {\n",
    "    \"Linear Regression\": LinearRegression(),\n",
    "    \"Ridge Regression\": Ridge(),\n",
    "    \"Lasso Regression\": Lasso(),\n",
    "    \"Decision Tree\": DecisionTreeRegressor(),\n",
    "    \"Random Forest\": RandomForestRegressor(),\n",
    "    \"Gradient Boosting\": GradientBoostingRegressor(),\n",
    "    \"K-Nearest Neighbors\": KNeighborsRegressor()\n",
    "}\n",
    "\n",
    "# Fit each model on the training data and store the results\n",
    "results = {}\n",
    "for model_name, model in models.items():\n",
    "    model.fit(X_train_prepared, y_train)\n",
    "    results[model_name] = model.score(X_test_prepared, y_test)\n",
    "    print(f\"{model_name} score: {results[model_name]}\")\n"
   ]
  },
  {
   "cell_type": "markdown",
   "metadata": {},
   "source": [
    "We train and evaluate each model, storing each model’s score to compare which predicts listing prices best."
   ]
  },
  {
   "cell_type": "markdown",
   "metadata": {},
   "source": [
    "### Interpretation of Results:\n",
    "- Linear Regression Model Score: 0.536\n",
    "   The linear regression model explains 53.6% of the variance in listing prices. This is a moderate fit, indicating that the model is capturing some trends but still has room for improvement. Linear regression might not be flexible enough to capture complex relationships in the data.\n",
    "\n",
    "- Ridge Regression Model Score: 0.536\n",
    "   Ridge regression also yields a similar performance to linear regression (53.6%). Ridge regression works by adding a penalty for large coefficients, helping to reduce overfitting, but it still doesn’t perform much better than simple linear regression.\n",
    "\n",
    "- Lasso Regression Model Score: 0.536\n",
    "   Like Ridge Regression, Lasso also achieves a score of 53.6%. Lasso is known for performing feature selection by forcing some coefficients to zero, but in this case, it didn't significantly improve the model’s performance compared to Ridge and Linear Regression.\n",
    "\n",
    "- Decision Tree Model Score: 0.39\n",
    "   The decision tree model has a lower score (39.2%) than linear and ridge regression, suggesting it is not capturing the relationship between features and listing prices effectively. Decision trees can easily overfit, which could explain the poor performance.\n",
    "\n",
    "- Random Forest Model Score: 0.618\n",
    "   The random forest model performed much better with a score of 61.8%. Random forests combine multiple decision trees, reducing overfitting and improving generalization, which is why it performed better than a single decision tree.\n",
    "\n",
    "- Gradient Boosting Model Score: 0.656\n",
    "   The gradient boosting model outperforms all others, achieving a score of 65.6%. Gradient boosting works by sequentially adding trees, with each one trying to correct the errors of the previous tree, leading to more accurate predictions.\n",
    "\n",
    "- K-Nearest Neighbors Model Score: 0.464\n",
    "   The K-Nearest Neighbors (KNN) model has a moderate score of 46.4%. KNN tends to perform well with sufficient data and well-scaled features but appears less effective for this real estate dataset, potentially due to a high-dimensional feature space."
   ]
  },
  {
   "cell_type": "markdown",
   "metadata": {},
   "source": [
    "### Cross-Validation:\n",
    "- Cross-validation gives a more reliable estimate of model performance by testing on different subsets of the training data."
   ]
  },
  {
   "cell_type": "code",
   "execution_count": 84,
   "metadata": {},
   "outputs": [
    {
     "name": "stdout",
     "output_type": "stream",
     "text": [
      "Linear Regression Cross-Validation Score: -2.2284214058248373e+23\n",
      "Ridge Regression Cross-Validation Score: 0.5187205962881777\n"
     ]
    },
    {
     "name": "stderr",
     "output_type": "stream",
     "text": [
      "/opt/anaconda3/envs/cohort_env/lib/python3.12/site-packages/sklearn/linear_model/_coordinate_descent.py:697: ConvergenceWarning: Objective did not converge. You might want to increase the number of iterations, check the scale of the features or consider increasing regularisation. Duality gap: 1.132e+13, tolerance: 2.366e+11\n",
      "  model = cd_fast.enet_coordinate_descent(\n",
      "/opt/anaconda3/envs/cohort_env/lib/python3.12/site-packages/sklearn/linear_model/_coordinate_descent.py:697: ConvergenceWarning: Objective did not converge. You might want to increase the number of iterations, check the scale of the features or consider increasing regularisation. Duality gap: 1.155e+13, tolerance: 2.298e+11\n",
      "  model = cd_fast.enet_coordinate_descent(\n",
      "/opt/anaconda3/envs/cohort_env/lib/python3.12/site-packages/sklearn/linear_model/_coordinate_descent.py:697: ConvergenceWarning: Objective did not converge. You might want to increase the number of iterations, check the scale of the features or consider increasing regularisation. Duality gap: 1.089e+13, tolerance: 2.175e+11\n",
      "  model = cd_fast.enet_coordinate_descent(\n",
      "/opt/anaconda3/envs/cohort_env/lib/python3.12/site-packages/sklearn/linear_model/_coordinate_descent.py:697: ConvergenceWarning: Objective did not converge. You might want to increase the number of iterations, check the scale of the features or consider increasing regularisation. Duality gap: 1.038e+13, tolerance: 2.159e+11\n",
      "  model = cd_fast.enet_coordinate_descent(\n",
      "/opt/anaconda3/envs/cohort_env/lib/python3.12/site-packages/sklearn/linear_model/_coordinate_descent.py:697: ConvergenceWarning: Objective did not converge. You might want to increase the number of iterations, check the scale of the features or consider increasing regularisation. Duality gap: 9.721e+12, tolerance: 2.210e+11\n",
      "  model = cd_fast.enet_coordinate_descent(\n"
     ]
    },
    {
     "name": "stdout",
     "output_type": "stream",
     "text": [
      "Lasso Regression Cross-Validation Score: 0.5186348221152576\n",
      "Decision Tree Cross-Validation Score: 0.3180650665468223\n",
      "Random Forest Cross-Validation Score: 0.5565587331200074\n",
      "Gradient Boosting Cross-Validation Score: 0.5835650705991487\n",
      "K-Nearest Neighbors Cross-Validation Score: 0.508401082779427\n"
     ]
    }
   ],
   "source": [
    "# Cross-validate for each model\n",
    "for model_name, model in models.items():\n",
    "    cv_scores = cross_val_score(model, X_train_prepared, y_train, cv=5)\n",
    "    print(f\"{model_name} Cross-Validation Score: {cv_scores.mean()}\")"
   ]
  },
  {
   "cell_type": "markdown",
   "metadata": {},
   "source": [
    "Cross-validation divides the training data into several smaller sets, training on some while testing on others to prevent overfitting."
   ]
  },
  {
   "cell_type": "markdown",
   "metadata": {},
   "source": [
    "### Cross Validation Results:\n",
    "- Linear Regression Cross-Validation Score: -2.23e+23\n",
    "  This extremely low score suggests that the linear regression model is overfitting during cross-validation, failing to generalize across different subsets of the data.\n",
    "\n",
    "- Ridge Regression Cross-Validation Score: 0.519\n",
    "  The ridge regression cross-validation score of 51.9% shows slightly better generalization than linear regression, but still not exceptional.\n",
    "\n",
    "- Lasso Regression Cross-Validation Score: 0.519\n",
    "  Similar to ridge regression, the lasso model also performs decently with a 51.9% cross-validation score, but doesn’t outperform ridge regression or other models.\n",
    "\n",
    "- Decision Tree Cross-Validation Score: 0.296\n",
    "  The decision tree model's poor cross-validation score (29.6%) indicates overfitting, where the model is performing well on the training data but failing to generalize to unseen data.\n",
    "\n",
    "- Random Forest Cross-Validation Score: 0.564\n",
    "  The random forest model achieves a 56.4% cross-validation score, showing good generalization and performance across different subsets of the data.\n",
    "\n",
    "- Gradient Boosting Cross-Validation Score: 0.584\n",
    "  The gradient boosting model performs best during cross-validation, with a score of 58.4%, confirming its overall strength in predicting listing prices.\n",
    "\n",
    "- K-Nearest Neighbors Cross-Validation Score: 0.508\n",
    "  The KNN model achieves a score of 50.8%, which is relatively good but still not as strong as random forest or gradient boosting.\n",
    "\n"
   ]
  },
  {
   "cell_type": "markdown",
   "metadata": {},
   "source": [
    "### Evaluation:\n",
    "Now, we assess each model’s accuracy using metrics that measure how close the predictions are to actual prices.\n",
    "\n",
    "Evaluation Metrics:\n",
    "\n",
    "- Mean Absolute Error (MAE) and Mean Squared Error (MSE) show prediction accuracy. Lower values mean better performance.\n",
    "- R-squared measures how well the model explains the price variation; closer to 1 is better."
   ]
  },
  {
   "cell_type": "code",
   "execution_count": 85,
   "metadata": {},
   "outputs": [
    {
     "name": "stdout",
     "output_type": "stream",
     "text": [
      "Mean Absolute Error: 230092.18952962488\n",
      "Mean Squared Error: 251119327373.66745\n",
      "R-squared: 0.6577947015551739\n"
     ]
    }
   ],
   "source": [
    "# Define and train the Gradient Boosting model\n",
    "best_model = GradientBoostingRegressor()  \n",
    "best_model.fit(X_train_prepared, y_train)\n",
    "\n",
    "# Make predictions on the test data\n",
    "y_pred = best_model.predict(X_test_prepared)\n",
    "\n",
    "# Calculate evaluation metrics\n",
    "mae = mean_absolute_error(y_test, y_pred)\n",
    "mse = mean_squared_error(y_test, y_pred)\n",
    "r2 = r2_score(y_test, y_pred)\n",
    "\n",
    "print(f\"Mean Absolute Error: {mae}\")\n",
    "print(f\"Mean Squared Error: {mse}\")\n",
    "print(f\"R-squared: {r2}\")"
   ]
  },
  {
   "cell_type": "markdown",
   "metadata": {},
   "source": [
    "These metrics tell us how far the predictions are from real prices and how well the model explains price differences."
   ]
  },
  {
   "cell_type": "markdown",
   "metadata": {},
   "source": [
    "**Mean Absolute Error (MAE): 230,092.19**\n",
    "This is the average absolute error in the predictions. On average, the predicted listing prices are off by approximately $230,092 from the actual values.\n",
    "While this provides an intuitive sense of error, it doesn’t penalize larger errors more heavily than smaller ones (like MSE does).\n",
    "\n",
    "**Mean Squared Error (MSE): 251,119,327,373.67**\n",
    "MSE squares the errors, making it sensitive to large outliers. A high MSE indicates some predictions may be quite far from the actual values, possibly due to certain properties with very high or low prices.\n",
    "MSE can be useful to emphasize large errors, though it is less interpretable in dollar terms than MAE.\n",
    "\n",
    "**R-squared (R²): 0.6578**\n",
    "R² is the proportion of variance in the target variable (listing price) explained by the model.\n",
    "An R² of 0.6578 means the model explains approximately 65.78% of the variance in property listing prices. This suggests that while the model captures a good amount of variance, there is still room for improvement.\n",
    "\n",
    "The model performs reasonably well but may have difficulty predicting certain extreme listing prices. Given the real estate context, this level of accuracy is a good start but may need refinement if lower error tolerances are required."
   ]
  },
  {
   "cell_type": "markdown",
   "metadata": {},
   "source": [
    "### Hyperparameter Tuning:\n",
    "- We improve the model by adjusting its settings, like the number of trees in a forest. This helps the model learn better patterns.\n"
   ]
  },
  {
   "cell_type": "code",
   "execution_count": 86,
   "metadata": {},
   "outputs": [
    {
     "name": "stdout",
     "output_type": "stream",
     "text": [
      "Best Parameters: {'max_depth': 10, 'n_estimators': 100}\n"
     ]
    }
   ],
   "source": [
    "# Tune hyperparameters for Random Forest\n",
    "param_grid = {\n",
    "    'n_estimators': [100, 200],\n",
    "    'max_depth': [10, 20]\n",
    "}\n",
    "grid_search = GridSearchCV(RandomForestRegressor(), param_grid, cv=5)\n",
    "grid_search.fit(X_train_prepared, y_train)\n",
    "\n",
    "print(\"Best Parameters:\", grid_search.best_params_)"
   ]
  },
  {
   "cell_type": "markdown",
   "metadata": {},
   "source": [
    "GridSearchCV finds the best parameters to boost accuracy."
   ]
  },
  {
   "cell_type": "markdown",
   "metadata": {},
   "source": [
    "Hyperparameter tuning revealed that a maximum depth of 10 and 200 estimators for the random forest model lead to the best performance. This combination prevents overfitting while capturing enough complexity in the data."
   ]
  },
  {
   "cell_type": "markdown",
   "metadata": {},
   "source": [
    "### Linear Regression, Ridge Regression, Lasso Regression\n",
    "While these models don't have many hyperparameters to tune, Ridge and Lasso have a hyperparameter for regularization strength (alpha). For Linear Regression, no hyperparameter tuning is needed, but for Ridge and Lasso, we can tune alpha."
   ]
  },
  {
   "cell_type": "code",
   "execution_count": 87,
   "metadata": {},
   "outputs": [
    {
     "name": "stdout",
     "output_type": "stream",
     "text": [
      "Best Parameters for Ridge: {'alpha': 100}\n"
     ]
    },
    {
     "name": "stderr",
     "output_type": "stream",
     "text": [
      "/opt/anaconda3/envs/cohort_env/lib/python3.12/site-packages/sklearn/linear_model/_coordinate_descent.py:697: ConvergenceWarning: Objective did not converge. You might want to increase the number of iterations, check the scale of the features or consider increasing regularisation. Duality gap: 1.132e+13, tolerance: 2.366e+11\n",
      "  model = cd_fast.enet_coordinate_descent(\n",
      "/opt/anaconda3/envs/cohort_env/lib/python3.12/site-packages/sklearn/linear_model/_coordinate_descent.py:697: ConvergenceWarning: Objective did not converge. You might want to increase the number of iterations, check the scale of the features or consider increasing regularisation. Duality gap: 1.155e+13, tolerance: 2.298e+11\n",
      "  model = cd_fast.enet_coordinate_descent(\n",
      "/opt/anaconda3/envs/cohort_env/lib/python3.12/site-packages/sklearn/linear_model/_coordinate_descent.py:697: ConvergenceWarning: Objective did not converge. You might want to increase the number of iterations, check the scale of the features or consider increasing regularisation. Duality gap: 1.089e+13, tolerance: 2.175e+11\n",
      "  model = cd_fast.enet_coordinate_descent(\n",
      "/opt/anaconda3/envs/cohort_env/lib/python3.12/site-packages/sklearn/linear_model/_coordinate_descent.py:697: ConvergenceWarning: Objective did not converge. You might want to increase the number of iterations, check the scale of the features or consider increasing regularisation. Duality gap: 1.038e+13, tolerance: 2.159e+11\n",
      "  model = cd_fast.enet_coordinate_descent(\n",
      "/opt/anaconda3/envs/cohort_env/lib/python3.12/site-packages/sklearn/linear_model/_coordinate_descent.py:697: ConvergenceWarning: Objective did not converge. You might want to increase the number of iterations, check the scale of the features or consider increasing regularisation. Duality gap: 9.720e+12, tolerance: 2.210e+11\n",
      "  model = cd_fast.enet_coordinate_descent(\n",
      "/opt/anaconda3/envs/cohort_env/lib/python3.12/site-packages/sklearn/linear_model/_coordinate_descent.py:697: ConvergenceWarning: Objective did not converge. You might want to increase the number of iterations, check the scale of the features or consider increasing regularisation. Duality gap: 1.132e+13, tolerance: 2.366e+11\n",
      "  model = cd_fast.enet_coordinate_descent(\n",
      "/opt/anaconda3/envs/cohort_env/lib/python3.12/site-packages/sklearn/linear_model/_coordinate_descent.py:697: ConvergenceWarning: Objective did not converge. You might want to increase the number of iterations, check the scale of the features or consider increasing regularisation. Duality gap: 1.155e+13, tolerance: 2.298e+11\n",
      "  model = cd_fast.enet_coordinate_descent(\n",
      "/opt/anaconda3/envs/cohort_env/lib/python3.12/site-packages/sklearn/linear_model/_coordinate_descent.py:697: ConvergenceWarning: Objective did not converge. You might want to increase the number of iterations, check the scale of the features or consider increasing regularisation. Duality gap: 1.089e+13, tolerance: 2.175e+11\n",
      "  model = cd_fast.enet_coordinate_descent(\n",
      "/opt/anaconda3/envs/cohort_env/lib/python3.12/site-packages/sklearn/linear_model/_coordinate_descent.py:697: ConvergenceWarning: Objective did not converge. You might want to increase the number of iterations, check the scale of the features or consider increasing regularisation. Duality gap: 1.038e+13, tolerance: 2.159e+11\n",
      "  model = cd_fast.enet_coordinate_descent(\n",
      "/opt/anaconda3/envs/cohort_env/lib/python3.12/site-packages/sklearn/linear_model/_coordinate_descent.py:697: ConvergenceWarning: Objective did not converge. You might want to increase the number of iterations, check the scale of the features or consider increasing regularisation. Duality gap: 9.721e+12, tolerance: 2.210e+11\n",
      "  model = cd_fast.enet_coordinate_descent(\n",
      "/opt/anaconda3/envs/cohort_env/lib/python3.12/site-packages/sklearn/linear_model/_coordinate_descent.py:697: ConvergenceWarning: Objective did not converge. You might want to increase the number of iterations, check the scale of the features or consider increasing regularisation. Duality gap: 1.133e+13, tolerance: 2.366e+11\n",
      "  model = cd_fast.enet_coordinate_descent(\n",
      "/opt/anaconda3/envs/cohort_env/lib/python3.12/site-packages/sklearn/linear_model/_coordinate_descent.py:697: ConvergenceWarning: Objective did not converge. You might want to increase the number of iterations, check the scale of the features or consider increasing regularisation. Duality gap: 1.156e+13, tolerance: 2.298e+11\n",
      "  model = cd_fast.enet_coordinate_descent(\n",
      "/opt/anaconda3/envs/cohort_env/lib/python3.12/site-packages/sklearn/linear_model/_coordinate_descent.py:697: ConvergenceWarning: Objective did not converge. You might want to increase the number of iterations, check the scale of the features or consider increasing regularisation. Duality gap: 1.090e+13, tolerance: 2.175e+11\n",
      "  model = cd_fast.enet_coordinate_descent(\n",
      "/opt/anaconda3/envs/cohort_env/lib/python3.12/site-packages/sklearn/linear_model/_coordinate_descent.py:697: ConvergenceWarning: Objective did not converge. You might want to increase the number of iterations, check the scale of the features or consider increasing regularisation. Duality gap: 1.039e+13, tolerance: 2.159e+11\n",
      "  model = cd_fast.enet_coordinate_descent(\n",
      "/opt/anaconda3/envs/cohort_env/lib/python3.12/site-packages/sklearn/linear_model/_coordinate_descent.py:697: ConvergenceWarning: Objective did not converge. You might want to increase the number of iterations, check the scale of the features or consider increasing regularisation. Duality gap: 9.729e+12, tolerance: 2.210e+11\n",
      "  model = cd_fast.enet_coordinate_descent(\n"
     ]
    },
    {
     "name": "stdout",
     "output_type": "stream",
     "text": [
      "Best Parameters for Lasso: {'alpha': 100}\n"
     ]
    }
   ],
   "source": [
    "# Tuning hyperparameters for Ridge Regression\n",
    "param_grid_ridge = {\n",
    "    'alpha': [0.1, 1, 10, 100]  # Regularization strength\n",
    "}\n",
    "grid_search_ridge = GridSearchCV(Ridge(), param_grid_ridge, cv=5)\n",
    "grid_search_ridge.fit(X_train_prepared, y_train)\n",
    "print(\"Best Parameters for Ridge:\", grid_search_ridge.best_params_)\n",
    "\n",
    "# Tuning hyperparameters for Lasso Regression\n",
    "param_grid_lasso = {\n",
    "    'alpha': [0.1, 1, 10, 100]  # Regularization strength\n",
    "}\n",
    "grid_search_lasso = GridSearchCV(Lasso(), param_grid_lasso, cv=5)\n",
    "grid_search_lasso.fit(X_train_prepared, y_train)\n",
    "print(\"Best Parameters for Lasso:\", grid_search_lasso.best_params_)"
   ]
  },
  {
   "cell_type": "markdown",
   "metadata": {},
   "source": [
    "- The optimal regularization strength for Ridge regression is found to be 100, suggesting a strong regularization effect, which helps prevent overfitting.\n",
    "- Similarly, for Lasso, the best regularization strength is also 100. This large value implies that Lasso is applying substantial regularization, which may lead to sparse solutions (where coefficients are driven to zero)."
   ]
  },
  {
   "cell_type": "markdown",
   "metadata": {},
   "source": [
    "### Decision Tree Regressor \n",
    "The Decision Tree Regressor has hyperparameters like max_depth, min_samples_split, and min_samples_leaf that can be tuned.\n"
   ]
  },
  {
   "cell_type": "code",
   "execution_count": 88,
   "metadata": {},
   "outputs": [
    {
     "name": "stdout",
     "output_type": "stream",
     "text": [
      "Best Parameters for Decision Tree: {'max_depth': 10, 'min_samples_leaf': 2, 'min_samples_split': 10}\n"
     ]
    }
   ],
   "source": [
    "# Tuning hyperparameters for Decision Tree\n",
    "param_grid_tree = {\n",
    "    'max_depth': [5, 10, 20],\n",
    "    'min_samples_split': [2, 5, 10],\n",
    "    'min_samples_leaf': [1, 2, 5]\n",
    "}\n",
    "grid_search_tree = GridSearchCV(DecisionTreeRegressor(), param_grid_tree, cv=5)\n",
    "grid_search_tree.fit(X_train_prepared, y_train)\n",
    "print(\"Best Parameters for Decision Tree:\", grid_search_tree.best_params_)"
   ]
  },
  {
   "cell_type": "markdown",
   "metadata": {},
   "source": [
    "For Decision Trees, the best model is found with a max_depth of 10, meaning the tree is not overly deep, reducing the risk of overfitting. The min_samples_split of 10 ensures that nodes with fewer than 10 samples will not split further, promoting generalization. The min_samples_leaf of 5 ensures each leaf has at least 5 samples, which helps avoid creating overly specific branches."
   ]
  },
  {
   "cell_type": "markdown",
   "metadata": {},
   "source": [
    "### K-Nearest Neighbors (KNN) \n",
    "For KNN, the hyperparameter n_neighbors can be tuned. We might also want to tune weights (whether the algorithm should use uniform or distance-based weighting) and metric."
   ]
  },
  {
   "cell_type": "code",
   "execution_count": 89,
   "metadata": {},
   "outputs": [
    {
     "name": "stdout",
     "output_type": "stream",
     "text": [
      "Best Parameters for KNN: {'metric': 'manhattan', 'n_neighbors': 10, 'weights': 'uniform'}\n"
     ]
    }
   ],
   "source": [
    "# Tuning hyperparameters for K-Nearest Neighbors (KNN)\n",
    "param_grid_knn = {\n",
    "    'n_neighbors': [3, 5, 10, 20],\n",
    "    'weights': ['uniform', 'distance'],\n",
    "    'metric': ['euclidean', 'manhattan']\n",
    "}\n",
    "grid_search_knn = GridSearchCV(KNeighborsRegressor(), param_grid_knn, cv=5)\n",
    "grid_search_knn.fit(X_train_prepared, y_train)\n",
    "print(\"Best Parameters for KNN:\", grid_search_knn.best_params_)"
   ]
  },
  {
   "cell_type": "markdown",
   "metadata": {},
   "source": [
    "The K-Nearest Neighbors model performs best with the Manhattan distance metric (instead of Euclidean), meaning it calculates distance by summing the absolute differences. The best number of neighbors is 10, indicating that the predictions are based on the average of the 10 nearest neighbors. The uniform weights suggest that all neighbors are equally important in predicting the target variable."
   ]
  },
  {
   "cell_type": "markdown",
   "metadata": {},
   "source": [
    "### Gradient Boosting Regressor\n",
    "For Gradient Boosting, we can tune n_estimators, learning_rate, max_depth, and other parameters to improve the model’s performance."
   ]
  },
  {
   "cell_type": "code",
   "execution_count": 90,
   "metadata": {},
   "outputs": [
    {
     "name": "stdout",
     "output_type": "stream",
     "text": [
      "Best Parameters for Gradient Boosting: {'learning_rate': 0.1, 'max_depth': 3, 'n_estimators': 100}\n"
     ]
    }
   ],
   "source": [
    "# Tuning hyperparameters for Gradient Boosting\n",
    "param_grid_gb = {\n",
    "    'n_estimators': [100, 200, 300],\n",
    "    'learning_rate': [0.01, 0.1, 0.2],\n",
    "    'max_depth': [3, 5, 7]\n",
    "}\n",
    "grid_search_gb = GridSearchCV(GradientBoostingRegressor(), param_grid_gb, cv=5)\n",
    "grid_search_gb.fit(X_train_prepared, y_train)\n",
    "print(\"Best Parameters for Gradient Boosting:\", grid_search_gb.best_params_)"
   ]
  },
  {
   "cell_type": "markdown",
   "metadata": {},
   "source": [
    "For Gradient Boosting, the best combination is a moderate learning_rate of 0.1, which balances the model's ability to learn without overfitting. The max_depth of 3 ensures that the trees built in each boosting iteration are relatively shallow, reducing complexity. The n_estimators of 100 indicates the number of trees in the ensemble, suggesting that the model needs a decent number of trees for strong predictive power."
   ]
  },
  {
   "cell_type": "markdown",
   "metadata": {},
   "source": [
    "### Applying Hyperparamter Tuning for Each Model\n",
    "After performing grid search and identifying the best hyperparameters for each model, we can retrain each model using these optimized parameters."
   ]
  },
  {
   "cell_type": "code",
   "execution_count": 91,
   "metadata": {},
   "outputs": [
    {
     "data": {
      "text/html": [
       "<style>#sk-container-id-2 {\n",
       "  /* Definition of color scheme common for light and dark mode */\n",
       "  --sklearn-color-text: black;\n",
       "  --sklearn-color-line: gray;\n",
       "  /* Definition of color scheme for unfitted estimators */\n",
       "  --sklearn-color-unfitted-level-0: #fff5e6;\n",
       "  --sklearn-color-unfitted-level-1: #f6e4d2;\n",
       "  --sklearn-color-unfitted-level-2: #ffe0b3;\n",
       "  --sklearn-color-unfitted-level-3: chocolate;\n",
       "  /* Definition of color scheme for fitted estimators */\n",
       "  --sklearn-color-fitted-level-0: #f0f8ff;\n",
       "  --sklearn-color-fitted-level-1: #d4ebff;\n",
       "  --sklearn-color-fitted-level-2: #b3dbfd;\n",
       "  --sklearn-color-fitted-level-3: cornflowerblue;\n",
       "\n",
       "  /* Specific color for light theme */\n",
       "  --sklearn-color-text-on-default-background: var(--sg-text-color, var(--theme-code-foreground, var(--jp-content-font-color1, black)));\n",
       "  --sklearn-color-background: var(--sg-background-color, var(--theme-background, var(--jp-layout-color0, white)));\n",
       "  --sklearn-color-border-box: var(--sg-text-color, var(--theme-code-foreground, var(--jp-content-font-color1, black)));\n",
       "  --sklearn-color-icon: #696969;\n",
       "\n",
       "  @media (prefers-color-scheme: dark) {\n",
       "    /* Redefinition of color scheme for dark theme */\n",
       "    --sklearn-color-text-on-default-background: var(--sg-text-color, var(--theme-code-foreground, var(--jp-content-font-color1, white)));\n",
       "    --sklearn-color-background: var(--sg-background-color, var(--theme-background, var(--jp-layout-color0, #111)));\n",
       "    --sklearn-color-border-box: var(--sg-text-color, var(--theme-code-foreground, var(--jp-content-font-color1, white)));\n",
       "    --sklearn-color-icon: #878787;\n",
       "  }\n",
       "}\n",
       "\n",
       "#sk-container-id-2 {\n",
       "  color: var(--sklearn-color-text);\n",
       "}\n",
       "\n",
       "#sk-container-id-2 pre {\n",
       "  padding: 0;\n",
       "}\n",
       "\n",
       "#sk-container-id-2 input.sk-hidden--visually {\n",
       "  border: 0;\n",
       "  clip: rect(1px 1px 1px 1px);\n",
       "  clip: rect(1px, 1px, 1px, 1px);\n",
       "  height: 1px;\n",
       "  margin: -1px;\n",
       "  overflow: hidden;\n",
       "  padding: 0;\n",
       "  position: absolute;\n",
       "  width: 1px;\n",
       "}\n",
       "\n",
       "#sk-container-id-2 div.sk-dashed-wrapped {\n",
       "  border: 1px dashed var(--sklearn-color-line);\n",
       "  margin: 0 0.4em 0.5em 0.4em;\n",
       "  box-sizing: border-box;\n",
       "  padding-bottom: 0.4em;\n",
       "  background-color: var(--sklearn-color-background);\n",
       "}\n",
       "\n",
       "#sk-container-id-2 div.sk-container {\n",
       "  /* jupyter's `normalize.less` sets `[hidden] { display: none; }`\n",
       "     but bootstrap.min.css set `[hidden] { display: none !important; }`\n",
       "     so we also need the `!important` here to be able to override the\n",
       "     default hidden behavior on the sphinx rendered scikit-learn.org.\n",
       "     See: https://github.com/scikit-learn/scikit-learn/issues/21755 */\n",
       "  display: inline-block !important;\n",
       "  position: relative;\n",
       "}\n",
       "\n",
       "#sk-container-id-2 div.sk-text-repr-fallback {\n",
       "  display: none;\n",
       "}\n",
       "\n",
       "div.sk-parallel-item,\n",
       "div.sk-serial,\n",
       "div.sk-item {\n",
       "  /* draw centered vertical line to link estimators */\n",
       "  background-image: linear-gradient(var(--sklearn-color-text-on-default-background), var(--sklearn-color-text-on-default-background));\n",
       "  background-size: 2px 100%;\n",
       "  background-repeat: no-repeat;\n",
       "  background-position: center center;\n",
       "}\n",
       "\n",
       "/* Parallel-specific style estimator block */\n",
       "\n",
       "#sk-container-id-2 div.sk-parallel-item::after {\n",
       "  content: \"\";\n",
       "  width: 100%;\n",
       "  border-bottom: 2px solid var(--sklearn-color-text-on-default-background);\n",
       "  flex-grow: 1;\n",
       "}\n",
       "\n",
       "#sk-container-id-2 div.sk-parallel {\n",
       "  display: flex;\n",
       "  align-items: stretch;\n",
       "  justify-content: center;\n",
       "  background-color: var(--sklearn-color-background);\n",
       "  position: relative;\n",
       "}\n",
       "\n",
       "#sk-container-id-2 div.sk-parallel-item {\n",
       "  display: flex;\n",
       "  flex-direction: column;\n",
       "}\n",
       "\n",
       "#sk-container-id-2 div.sk-parallel-item:first-child::after {\n",
       "  align-self: flex-end;\n",
       "  width: 50%;\n",
       "}\n",
       "\n",
       "#sk-container-id-2 div.sk-parallel-item:last-child::after {\n",
       "  align-self: flex-start;\n",
       "  width: 50%;\n",
       "}\n",
       "\n",
       "#sk-container-id-2 div.sk-parallel-item:only-child::after {\n",
       "  width: 0;\n",
       "}\n",
       "\n",
       "/* Serial-specific style estimator block */\n",
       "\n",
       "#sk-container-id-2 div.sk-serial {\n",
       "  display: flex;\n",
       "  flex-direction: column;\n",
       "  align-items: center;\n",
       "  background-color: var(--sklearn-color-background);\n",
       "  padding-right: 1em;\n",
       "  padding-left: 1em;\n",
       "}\n",
       "\n",
       "\n",
       "/* Toggleable style: style used for estimator/Pipeline/ColumnTransformer box that is\n",
       "clickable and can be expanded/collapsed.\n",
       "- Pipeline and ColumnTransformer use this feature and define the default style\n",
       "- Estimators will overwrite some part of the style using the `sk-estimator` class\n",
       "*/\n",
       "\n",
       "/* Pipeline and ColumnTransformer style (default) */\n",
       "\n",
       "#sk-container-id-2 div.sk-toggleable {\n",
       "  /* Default theme specific background. It is overwritten whether we have a\n",
       "  specific estimator or a Pipeline/ColumnTransformer */\n",
       "  background-color: var(--sklearn-color-background);\n",
       "}\n",
       "\n",
       "/* Toggleable label */\n",
       "#sk-container-id-2 label.sk-toggleable__label {\n",
       "  cursor: pointer;\n",
       "  display: block;\n",
       "  width: 100%;\n",
       "  margin-bottom: 0;\n",
       "  padding: 0.5em;\n",
       "  box-sizing: border-box;\n",
       "  text-align: center;\n",
       "}\n",
       "\n",
       "#sk-container-id-2 label.sk-toggleable__label-arrow:before {\n",
       "  /* Arrow on the left of the label */\n",
       "  content: \"▸\";\n",
       "  float: left;\n",
       "  margin-right: 0.25em;\n",
       "  color: var(--sklearn-color-icon);\n",
       "}\n",
       "\n",
       "#sk-container-id-2 label.sk-toggleable__label-arrow:hover:before {\n",
       "  color: var(--sklearn-color-text);\n",
       "}\n",
       "\n",
       "/* Toggleable content - dropdown */\n",
       "\n",
       "#sk-container-id-2 div.sk-toggleable__content {\n",
       "  max-height: 0;\n",
       "  max-width: 0;\n",
       "  overflow: hidden;\n",
       "  text-align: left;\n",
       "  /* unfitted */\n",
       "  background-color: var(--sklearn-color-unfitted-level-0);\n",
       "}\n",
       "\n",
       "#sk-container-id-2 div.sk-toggleable__content.fitted {\n",
       "  /* fitted */\n",
       "  background-color: var(--sklearn-color-fitted-level-0);\n",
       "}\n",
       "\n",
       "#sk-container-id-2 div.sk-toggleable__content pre {\n",
       "  margin: 0.2em;\n",
       "  border-radius: 0.25em;\n",
       "  color: var(--sklearn-color-text);\n",
       "  /* unfitted */\n",
       "  background-color: var(--sklearn-color-unfitted-level-0);\n",
       "}\n",
       "\n",
       "#sk-container-id-2 div.sk-toggleable__content.fitted pre {\n",
       "  /* unfitted */\n",
       "  background-color: var(--sklearn-color-fitted-level-0);\n",
       "}\n",
       "\n",
       "#sk-container-id-2 input.sk-toggleable__control:checked~div.sk-toggleable__content {\n",
       "  /* Expand drop-down */\n",
       "  max-height: 200px;\n",
       "  max-width: 100%;\n",
       "  overflow: auto;\n",
       "}\n",
       "\n",
       "#sk-container-id-2 input.sk-toggleable__control:checked~label.sk-toggleable__label-arrow:before {\n",
       "  content: \"▾\";\n",
       "}\n",
       "\n",
       "/* Pipeline/ColumnTransformer-specific style */\n",
       "\n",
       "#sk-container-id-2 div.sk-label input.sk-toggleable__control:checked~label.sk-toggleable__label {\n",
       "  color: var(--sklearn-color-text);\n",
       "  background-color: var(--sklearn-color-unfitted-level-2);\n",
       "}\n",
       "\n",
       "#sk-container-id-2 div.sk-label.fitted input.sk-toggleable__control:checked~label.sk-toggleable__label {\n",
       "  background-color: var(--sklearn-color-fitted-level-2);\n",
       "}\n",
       "\n",
       "/* Estimator-specific style */\n",
       "\n",
       "/* Colorize estimator box */\n",
       "#sk-container-id-2 div.sk-estimator input.sk-toggleable__control:checked~label.sk-toggleable__label {\n",
       "  /* unfitted */\n",
       "  background-color: var(--sklearn-color-unfitted-level-2);\n",
       "}\n",
       "\n",
       "#sk-container-id-2 div.sk-estimator.fitted input.sk-toggleable__control:checked~label.sk-toggleable__label {\n",
       "  /* fitted */\n",
       "  background-color: var(--sklearn-color-fitted-level-2);\n",
       "}\n",
       "\n",
       "#sk-container-id-2 div.sk-label label.sk-toggleable__label,\n",
       "#sk-container-id-2 div.sk-label label {\n",
       "  /* The background is the default theme color */\n",
       "  color: var(--sklearn-color-text-on-default-background);\n",
       "}\n",
       "\n",
       "/* On hover, darken the color of the background */\n",
       "#sk-container-id-2 div.sk-label:hover label.sk-toggleable__label {\n",
       "  color: var(--sklearn-color-text);\n",
       "  background-color: var(--sklearn-color-unfitted-level-2);\n",
       "}\n",
       "\n",
       "/* Label box, darken color on hover, fitted */\n",
       "#sk-container-id-2 div.sk-label.fitted:hover label.sk-toggleable__label.fitted {\n",
       "  color: var(--sklearn-color-text);\n",
       "  background-color: var(--sklearn-color-fitted-level-2);\n",
       "}\n",
       "\n",
       "/* Estimator label */\n",
       "\n",
       "#sk-container-id-2 div.sk-label label {\n",
       "  font-family: monospace;\n",
       "  font-weight: bold;\n",
       "  display: inline-block;\n",
       "  line-height: 1.2em;\n",
       "}\n",
       "\n",
       "#sk-container-id-2 div.sk-label-container {\n",
       "  text-align: center;\n",
       "}\n",
       "\n",
       "/* Estimator-specific */\n",
       "#sk-container-id-2 div.sk-estimator {\n",
       "  font-family: monospace;\n",
       "  border: 1px dotted var(--sklearn-color-border-box);\n",
       "  border-radius: 0.25em;\n",
       "  box-sizing: border-box;\n",
       "  margin-bottom: 0.5em;\n",
       "  /* unfitted */\n",
       "  background-color: var(--sklearn-color-unfitted-level-0);\n",
       "}\n",
       "\n",
       "#sk-container-id-2 div.sk-estimator.fitted {\n",
       "  /* fitted */\n",
       "  background-color: var(--sklearn-color-fitted-level-0);\n",
       "}\n",
       "\n",
       "/* on hover */\n",
       "#sk-container-id-2 div.sk-estimator:hover {\n",
       "  /* unfitted */\n",
       "  background-color: var(--sklearn-color-unfitted-level-2);\n",
       "}\n",
       "\n",
       "#sk-container-id-2 div.sk-estimator.fitted:hover {\n",
       "  /* fitted */\n",
       "  background-color: var(--sklearn-color-fitted-level-2);\n",
       "}\n",
       "\n",
       "/* Specification for estimator info (e.g. \"i\" and \"?\") */\n",
       "\n",
       "/* Common style for \"i\" and \"?\" */\n",
       "\n",
       ".sk-estimator-doc-link,\n",
       "a:link.sk-estimator-doc-link,\n",
       "a:visited.sk-estimator-doc-link {\n",
       "  float: right;\n",
       "  font-size: smaller;\n",
       "  line-height: 1em;\n",
       "  font-family: monospace;\n",
       "  background-color: var(--sklearn-color-background);\n",
       "  border-radius: 1em;\n",
       "  height: 1em;\n",
       "  width: 1em;\n",
       "  text-decoration: none !important;\n",
       "  margin-left: 1ex;\n",
       "  /* unfitted */\n",
       "  border: var(--sklearn-color-unfitted-level-1) 1pt solid;\n",
       "  color: var(--sklearn-color-unfitted-level-1);\n",
       "}\n",
       "\n",
       ".sk-estimator-doc-link.fitted,\n",
       "a:link.sk-estimator-doc-link.fitted,\n",
       "a:visited.sk-estimator-doc-link.fitted {\n",
       "  /* fitted */\n",
       "  border: var(--sklearn-color-fitted-level-1) 1pt solid;\n",
       "  color: var(--sklearn-color-fitted-level-1);\n",
       "}\n",
       "\n",
       "/* On hover */\n",
       "div.sk-estimator:hover .sk-estimator-doc-link:hover,\n",
       ".sk-estimator-doc-link:hover,\n",
       "div.sk-label-container:hover .sk-estimator-doc-link:hover,\n",
       ".sk-estimator-doc-link:hover {\n",
       "  /* unfitted */\n",
       "  background-color: var(--sklearn-color-unfitted-level-3);\n",
       "  color: var(--sklearn-color-background);\n",
       "  text-decoration: none;\n",
       "}\n",
       "\n",
       "div.sk-estimator.fitted:hover .sk-estimator-doc-link.fitted:hover,\n",
       ".sk-estimator-doc-link.fitted:hover,\n",
       "div.sk-label-container:hover .sk-estimator-doc-link.fitted:hover,\n",
       ".sk-estimator-doc-link.fitted:hover {\n",
       "  /* fitted */\n",
       "  background-color: var(--sklearn-color-fitted-level-3);\n",
       "  color: var(--sklearn-color-background);\n",
       "  text-decoration: none;\n",
       "}\n",
       "\n",
       "/* Span, style for the box shown on hovering the info icon */\n",
       ".sk-estimator-doc-link span {\n",
       "  display: none;\n",
       "  z-index: 9999;\n",
       "  position: relative;\n",
       "  font-weight: normal;\n",
       "  right: .2ex;\n",
       "  padding: .5ex;\n",
       "  margin: .5ex;\n",
       "  width: min-content;\n",
       "  min-width: 20ex;\n",
       "  max-width: 50ex;\n",
       "  color: var(--sklearn-color-text);\n",
       "  box-shadow: 2pt 2pt 4pt #999;\n",
       "  /* unfitted */\n",
       "  background: var(--sklearn-color-unfitted-level-0);\n",
       "  border: .5pt solid var(--sklearn-color-unfitted-level-3);\n",
       "}\n",
       "\n",
       ".sk-estimator-doc-link.fitted span {\n",
       "  /* fitted */\n",
       "  background: var(--sklearn-color-fitted-level-0);\n",
       "  border: var(--sklearn-color-fitted-level-3);\n",
       "}\n",
       "\n",
       ".sk-estimator-doc-link:hover span {\n",
       "  display: block;\n",
       "}\n",
       "\n",
       "/* \"?\"-specific style due to the `<a>` HTML tag */\n",
       "\n",
       "#sk-container-id-2 a.estimator_doc_link {\n",
       "  float: right;\n",
       "  font-size: 1rem;\n",
       "  line-height: 1em;\n",
       "  font-family: monospace;\n",
       "  background-color: var(--sklearn-color-background);\n",
       "  border-radius: 1rem;\n",
       "  height: 1rem;\n",
       "  width: 1rem;\n",
       "  text-decoration: none;\n",
       "  /* unfitted */\n",
       "  color: var(--sklearn-color-unfitted-level-1);\n",
       "  border: var(--sklearn-color-unfitted-level-1) 1pt solid;\n",
       "}\n",
       "\n",
       "#sk-container-id-2 a.estimator_doc_link.fitted {\n",
       "  /* fitted */\n",
       "  border: var(--sklearn-color-fitted-level-1) 1pt solid;\n",
       "  color: var(--sklearn-color-fitted-level-1);\n",
       "}\n",
       "\n",
       "/* On hover */\n",
       "#sk-container-id-2 a.estimator_doc_link:hover {\n",
       "  /* unfitted */\n",
       "  background-color: var(--sklearn-color-unfitted-level-3);\n",
       "  color: var(--sklearn-color-background);\n",
       "  text-decoration: none;\n",
       "}\n",
       "\n",
       "#sk-container-id-2 a.estimator_doc_link.fitted:hover {\n",
       "  /* fitted */\n",
       "  background-color: var(--sklearn-color-fitted-level-3);\n",
       "}\n",
       "</style><div id=\"sk-container-id-2\" class=\"sk-top-container\"><div class=\"sk-text-repr-fallback\"><pre>GradientBoostingRegressor()</pre><b>In a Jupyter environment, please rerun this cell to show the HTML representation or trust the notebook. <br />On GitHub, the HTML representation is unable to render, please try loading this page with nbviewer.org.</b></div><div class=\"sk-container\" hidden><div class=\"sk-item\"><div class=\"sk-estimator fitted sk-toggleable\"><input class=\"sk-toggleable__control sk-hidden--visually\" id=\"sk-estimator-id-2\" type=\"checkbox\" checked><label for=\"sk-estimator-id-2\" class=\"sk-toggleable__label fitted sk-toggleable__label-arrow fitted\">&nbsp;&nbsp;GradientBoostingRegressor<a class=\"sk-estimator-doc-link fitted\" rel=\"noreferrer\" target=\"_blank\" href=\"https://scikit-learn.org/1.5/modules/generated/sklearn.ensemble.GradientBoostingRegressor.html\">?<span>Documentation for GradientBoostingRegressor</span></a><span class=\"sk-estimator-doc-link fitted\">i<span>Fitted</span></span></label><div class=\"sk-toggleable__content fitted\"><pre>GradientBoostingRegressor()</pre></div> </div></div></div></div>"
      ],
      "text/plain": [
       "GradientBoostingRegressor()"
      ]
     },
     "execution_count": 91,
     "metadata": {},
     "output_type": "execute_result"
    }
   ],
   "source": [
    "# Re-train each model with the best hyperparameters\n",
    "\n",
    "# For Ridge\n",
    "best_ridge = Ridge(alpha=grid_search_ridge.best_params_['alpha'])\n",
    "best_ridge.fit(X_train_prepared, y_train)\n",
    "\n",
    "# For Lasso\n",
    "best_lasso = Lasso(alpha=grid_search_lasso.best_params_['alpha'])\n",
    "best_lasso.fit(X_train_prepared, y_train)\n",
    "\n",
    "# For Decision Tree\n",
    "best_tree = DecisionTreeRegressor(\n",
    "    max_depth=grid_search_tree.best_params_['max_depth'],\n",
    "    min_samples_split=grid_search_tree.best_params_['min_samples_split'],\n",
    "    min_samples_leaf=grid_search_tree.best_params_['min_samples_leaf']\n",
    ")\n",
    "best_tree.fit(X_train_prepared, y_train)\n",
    "\n",
    "# For KNN\n",
    "best_knn = KNeighborsRegressor(\n",
    "    n_neighbors=grid_search_knn.best_params_['n_neighbors'],\n",
    "    weights=grid_search_knn.best_params_['weights'],\n",
    "    metric=grid_search_knn.best_params_['metric']\n",
    ")\n",
    "best_knn.fit(X_train_prepared, y_train)\n",
    "\n",
    "# For Gradient Boosting\n",
    "best_gb = GradientBoostingRegressor(\n",
    "    n_estimators=grid_search_gb.best_params_['n_estimators'],\n",
    "    learning_rate=grid_search_gb.best_params_['learning_rate'],\n",
    "    max_depth=grid_search_gb.best_params_['max_depth']\n",
    ")\n",
    "best_gb.fit(X_train_prepared, y_train)\n"
   ]
  },
  {
   "cell_type": "markdown",
   "metadata": {},
   "source": [
    "### Assessing Each Model Performance\n"
   ]
  },
  {
   "cell_type": "code",
   "execution_count": 92,
   "metadata": {},
   "outputs": [
    {
     "name": "stdout",
     "output_type": "stream",
     "text": [
      "Ridge Model - MAE: 288991.1002938826, MSE: 340282947906.4927, R2: 0.5362896637153178\n",
      "Lasso Model - MAE: 295961.7592716033, MSE: 340392301431.8531, R2: 0.5361406454928922\n",
      "Decision Tree Model - MAE: 262710.16878822504, MSE: 363707012026.0914, R2: 0.5043692259828992\n",
      "KNN Model - MAE: 247725.74459459435, MSE: 391395795116.0293, R2: 0.46663717094769674\n",
      "Gradient Boosting Model - MAE: 231322.2802394274, MSE: 255156727462.53174, R2: 0.6522928562101715\n"
     ]
    }
   ],
   "source": [
    "# For Ridge\n",
    "y_pred_ridge = best_ridge.predict(X_test_prepared)\n",
    "mae_ridge = mean_absolute_error(y_test, y_pred_ridge)\n",
    "mse_ridge = mean_squared_error(y_test, y_pred_ridge)\n",
    "r2_ridge = r2_score(y_test, y_pred_ridge)\n",
    "print(f\"Ridge Model - MAE: {mae_ridge}, MSE: {mse_ridge}, R2: {r2_ridge}\")\n",
    "\n",
    "# For Lasso\n",
    "y_pred_lasso = best_lasso.predict(X_test_prepared)\n",
    "mae_lasso = mean_absolute_error(y_test, y_pred_lasso)\n",
    "mse_lasso = mean_squared_error(y_test, y_pred_lasso)\n",
    "r2_lasso = r2_score(y_test, y_pred_lasso)\n",
    "print(f\"Lasso Model - MAE: {mae_lasso}, MSE: {mse_lasso}, R2: {r2_lasso}\")\n",
    "\n",
    "# For Decision Tree\n",
    "y_pred_tree = best_tree.predict(X_test_prepared)\n",
    "mae_tree = mean_absolute_error(y_test, y_pred_tree)\n",
    "mse_tree = mean_squared_error(y_test, y_pred_tree)\n",
    "r2_tree = r2_score(y_test, y_pred_tree)\n",
    "print(f\"Decision Tree Model - MAE: {mae_tree}, MSE: {mse_tree}, R2: {r2_tree}\")\n",
    "\n",
    "# For KNN\n",
    "y_pred_knn = best_knn.predict(X_test_prepared)\n",
    "mae_knn = mean_absolute_error(y_test, y_pred_knn)\n",
    "mse_knn = mean_squared_error(y_test, y_pred_knn)\n",
    "r2_knn = r2_score(y_test, y_pred_knn)\n",
    "print(f\"KNN Model - MAE: {mae_knn}, MSE: {mse_knn}, R2: {r2_knn}\")\n",
    "\n",
    "# For Gradient Boosting\n",
    "y_pred_gb = best_gb.predict(X_test_prepared)\n",
    "mae_gb = mean_absolute_error(y_test, y_pred_gb)\n",
    "mse_gb = mean_squared_error(y_test, y_pred_gb)\n",
    "r2_gb = r2_score(y_test, y_pred_gb)\n",
    "print(f\"Gradient Boosting Model - MAE: {mae_gb}, MSE: {mse_gb}, R2: {r2_gb}\")"
   ]
  },
  {
   "cell_type": "markdown",
   "metadata": {},
   "source": [
    "### Interpretation and Feature Importance\n",
    "After tuning, we examine what features (like square footage) the model considers most important in predicting price."
   ]
  },
  {
   "cell_type": "code",
   "execution_count": 93,
   "metadata": {},
   "outputs": [
    {
     "name": "stdout",
     "output_type": "stream",
     "text": [
      "                             Feature  Importance\n",
      "7                               sqft    0.501169\n",
      "2                              baths    0.188222\n",
      "6                           lot_sqft    0.187181\n",
      "1                               beds    0.032588\n",
      "0                         year_built    0.021530\n",
      "8                            stories    0.020019\n",
      "5                             garage    0.019227\n",
      "3                         baths_full    0.009102\n",
      "9                          sold_year    0.006096\n",
      "10                        sold_month    0.004204\n",
      "19                type_single_family    0.004120\n",
      "17                       type_mobile    0.003107\n",
      "4                         baths_half    0.001521\n",
      "15                         type_farm    0.001041\n",
      "16                         type_land    0.000874\n",
      "18                        type_other    0.000000\n",
      "21                    type_townhouse    0.000000\n",
      "20                    type_townhomes    0.000000\n",
      "11                        type_condo    0.000000\n",
      "14                       type_condos    0.000000\n",
      "13  type_condo_townhome_rowhome_coop    0.000000\n",
      "12               type_condo_townhome    0.000000\n",
      "22                    status_encoded    0.000000\n"
     ]
    },
    {
     "data": {
      "image/png": "[encoded data removed]",
      "text/plain": [
       "<Figure size 1000x800 with 1 Axes>"
      ]
     },
     "metadata": {},
     "output_type": "display_data"
    }
   ],
   "source": [
    "# Extract feature importance for the gradient boosting\n",
    "feature_importances = best_model.feature_importances_\n",
    "features = X_train.columns\n",
    "\n",
    "# Create a DataFrame to display feature importances\n",
    "feature_importance_df = pd.DataFrame({\n",
    "    'Feature': features,\n",
    "    'Importance': feature_importances\n",
    "})\n",
    "\n",
    "# Sort by importance\n",
    "feature_importance_df = feature_importance_df.sort_values(by='Importance', ascending=False)\n",
    "\n",
    "# Display the feature importances\n",
    "print(feature_importance_df)\n",
    "\n",
    "# Plot feature importance\n",
    "plt.figure(figsize=(10, 8))\n",
    "plt.barh(features, feature_importances)\n",
    "plt.xlabel(\"Feature Importance\")\n",
    "plt.title(\"Feature Importance in Predicting Listing Price\")\n",
    "plt.show()\n"
   ]
  },
  {
   "cell_type": "markdown",
   "metadata": {},
   "source": [
    "This chart shows which features matter most, helping us understand what affects price most (e.g., square footage or bathrooms)."
   ]
  },
  {
   "cell_type": "markdown",
   "metadata": {},
   "source": [
    "Feature Importance Interpretation\n",
    "\n",
    "- Top Features:\n",
    "\n",
    "  - sqft (importance: 0.513) is the most important feature, suggesting that the size of the house in square feet plays a critical role in predicting the target variable.\n",
    "  - lot_sqft (importance: 0.211) indicates that the size of the lot also contributes significantly to the model's predictions.\n",
    "\n",
    "- Moderate Importance:\n",
    "\n",
    "  - baths (0.087), year_built (0.046), beds (0.030), and sold_month (0.020) all have moderate importance, indicating they are relevant but not as crucial as sqft or lot_sqft.\n",
    "\n",
    "- Low Importance:\n",
    "\n",
    "  - Features like type_condo, type_other, and status_encoded have very low importance (close to zero), suggesting that these features do not contribute meaningfully to predicting the target variable in this case."
   ]
  },
  {
   "cell_type": "code",
   "execution_count": 95,
   "metadata": {},
   "outputs": [
    {
     "name": "stdout",
     "output_type": "stream",
     "text": [
      "Mean Absolute Error: 231322.2802394274\n",
      "Mean Squared Error: 255156727462.53174\n",
      "R-squared: 0.6522928562101715\n"
     ]
    }
   ],
   "source": [
    "# Prediction using the best model\n",
    "y_pred = best_gb.predict(X_test_prepared)\n",
    "\n",
    "# Evaluate the model\n",
    "mae = mean_absolute_error(y_test, y_pred)\n",
    "mse = mean_squared_error(y_test, y_pred)\n",
    "r2 = r2_score(y_test, y_pred)\n",
    "\n",
    "print(f'Mean Absolute Error: {mae}')\n",
    "print(f'Mean Squared Error: {mse}')\n",
    "print(f'R-squared: {r2}')\n"
   ]
  },
  {
   "cell_type": "markdown",
   "metadata": {},
   "source": [
    "## Summary of Findings "
   ]
  }
 ],
 "metadata": {
  "kernelspec": {
   "display_name": "cohort_env",
   "language": "python",
   "name": "python3"
  },
  "language_info": {
   "codemirror_mode": {
    "name": "ipython",
    "version": 3
   },
   "file_extension": ".py",
   "mimetype": "text/x-python",
   "name": "python",
   "nbconvert_exporter": "python",
   "pygments_lexer": "ipython3",
   "version": "3.12.5"
  }
 },
 "nbformat": 4,
 "nbformat_minor": 2
}
