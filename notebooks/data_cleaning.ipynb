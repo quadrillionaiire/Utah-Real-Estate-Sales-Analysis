{
 "cells": [
  {
   "cell_type": "markdown",
   "metadata": {},
   "source": [
    "# Utah Real Estate Market Analysis: Sales Trends and Predictive Modeling"
   ]
  },
  {
   "cell_type": "markdown",
   "metadata": {},
   "source": [
    "## Overview\n",
    "\n",
    "The Utah Real Estate Sales Analysis project aims to leverage a dataset containing detailed real estate listings from Utah to explore market trends, pricing dynamics, and key property characteristics influencing sales prices. The dataset provides comprehensive information about 4,440 unique real estate listings, including attributes such as property type, size, listing price, bedrooms, bathrooms, lot size, garage spaces, and the date of last sale. By analyzing this data, we seek to gain insights into the Utah real estate market and develop predictive models to estimate property prices based on various features."
   ]
  },
  {
   "cell_type": "markdown",
   "metadata": {},
   "source": [
    "# Exploring the Data"
   ]
  },
  {
   "cell_type": "markdown",
   "metadata": {},
   "source": [
    "## Data Understanding\n",
    "As previously mentioned, the dataset used in this analysis is sourced from Utah real estate listings and provides detailed information for 4,440 properties, which were built as early as 1860 to 2026 for future listings. The dataset allows for a comprehensive analysis of factors influencing property values and trends within Utah’s real estate market."
   ]
  },
  {
   "cell_type": "markdown",
   "metadata": {},
   "source": [
    "## 1.1 Load the Datasets\n",
    "During this process, we will load and prepare our data for an exploratory data analysis by gaining key insights from our data by taking a general look (.head), checking for missing values (.info), and a brief summary of statistics (.describe)."
   ]
  },
  {
   "cell_type": "code",
   "execution_count": 21,
   "metadata": {},
   "outputs": [],
   "source": [
    "#Import and load the data with panda\n",
    "import pandas as pd\n",
    "path = '../data/real_estate_utah.csv'\n",
    "real_estate_data = pd.read_csv(path)"
   ]
  },
  {
   "cell_type": "code",
   "execution_count": 22,
   "metadata": {},
   "outputs": [
    {
     "data": {
      "text/html": [
       "<div>\n",
       "<style scoped>\n",
       "    .dataframe tbody tr th:only-of-type {\n",
       "        vertical-align: middle;\n",
       "    }\n",
       "\n",
       "    .dataframe tbody tr th {\n",
       "        vertical-align: top;\n",
       "    }\n",
       "\n",
       "    .dataframe thead th {\n",
       "        text-align: right;\n",
       "    }\n",
       "</style>\n",
       "<table border=\"1\" class=\"dataframe\">\n",
       "  <thead>\n",
       "    <tr style=\"text-align: right;\">\n",
       "      <th></th>\n",
       "      <th>type</th>\n",
       "      <th>text</th>\n",
       "      <th>year_built</th>\n",
       "      <th>beds</th>\n",
       "      <th>baths</th>\n",
       "      <th>baths_full</th>\n",
       "      <th>baths_half</th>\n",
       "      <th>garage</th>\n",
       "      <th>lot_sqft</th>\n",
       "      <th>sqft</th>\n",
       "      <th>stories</th>\n",
       "      <th>lastSoldOn</th>\n",
       "      <th>listPrice</th>\n",
       "      <th>status</th>\n",
       "    </tr>\n",
       "  </thead>\n",
       "  <tbody>\n",
       "    <tr>\n",
       "      <th>0</th>\n",
       "      <td>single_family</td>\n",
       "      <td>Escape to tranquility with this off-grid, unfi...</td>\n",
       "      <td>2020.0</td>\n",
       "      <td>1.0</td>\n",
       "      <td>1.0</td>\n",
       "      <td>1.0</td>\n",
       "      <td>1.0</td>\n",
       "      <td>2.0</td>\n",
       "      <td>71438.0</td>\n",
       "      <td>696.0</td>\n",
       "      <td>2.0</td>\n",
       "      <td>2018-05-31</td>\n",
       "      <td>90000.0</td>\n",
       "      <td>for_sale</td>\n",
       "    </tr>\n",
       "    <tr>\n",
       "      <th>1</th>\n",
       "      <td>single_family</td>\n",
       "      <td>Beautiful home in the desirable Oak Hills and ...</td>\n",
       "      <td>1968.0</td>\n",
       "      <td>4.0</td>\n",
       "      <td>3.0</td>\n",
       "      <td>2.0</td>\n",
       "      <td>1.0</td>\n",
       "      <td>2.0</td>\n",
       "      <td>56628.0</td>\n",
       "      <td>3700.0</td>\n",
       "      <td>2.0</td>\n",
       "      <td>2018-05-31</td>\n",
       "      <td>799000.0</td>\n",
       "      <td>for_sale</td>\n",
       "    </tr>\n",
       "    <tr>\n",
       "      <th>2</th>\n",
       "      <td>single_family</td>\n",
       "      <td>Welcome to your new home, nestled in the heart...</td>\n",
       "      <td>1985.0</td>\n",
       "      <td>4.0</td>\n",
       "      <td>3.0</td>\n",
       "      <td>3.0</td>\n",
       "      <td>1.0</td>\n",
       "      <td>1.0</td>\n",
       "      <td>10019.0</td>\n",
       "      <td>3528.0</td>\n",
       "      <td>2.0</td>\n",
       "      <td>2018-05-31</td>\n",
       "      <td>389900.0</td>\n",
       "      <td>for_sale</td>\n",
       "    </tr>\n",
       "    <tr>\n",
       "      <th>3</th>\n",
       "      <td>single_family</td>\n",
       "      <td>Investment Opportunity. House needs some work ...</td>\n",
       "      <td>1936.0</td>\n",
       "      <td>4.0</td>\n",
       "      <td>2.0</td>\n",
       "      <td>2.0</td>\n",
       "      <td>1.0</td>\n",
       "      <td>2.0</td>\n",
       "      <td>12632.0</td>\n",
       "      <td>2097.0</td>\n",
       "      <td>2.0</td>\n",
       "      <td>2018-04-16</td>\n",
       "      <td>300000.0</td>\n",
       "      <td>for_sale</td>\n",
       "    </tr>\n",
       "    <tr>\n",
       "      <th>4</th>\n",
       "      <td>land</td>\n",
       "      <td>Deer Springs Ranch is an 8000 Ac Ranch in an H...</td>\n",
       "      <td>2003.0</td>\n",
       "      <td>4.0</td>\n",
       "      <td>0.0</td>\n",
       "      <td>2.0</td>\n",
       "      <td>1.0</td>\n",
       "      <td>2.0</td>\n",
       "      <td>872071.0</td>\n",
       "      <td>2400.0</td>\n",
       "      <td>2.0</td>\n",
       "      <td>2018-05-31</td>\n",
       "      <td>70000.0</td>\n",
       "      <td>for_sale</td>\n",
       "    </tr>\n",
       "  </tbody>\n",
       "</table>\n",
       "</div>"
      ],
      "text/plain": [
       "            type                                               text  \\\n",
       "0  single_family  Escape to tranquility with this off-grid, unfi...   \n",
       "1  single_family  Beautiful home in the desirable Oak Hills and ...   \n",
       "2  single_family  Welcome to your new home, nestled in the heart...   \n",
       "3  single_family  Investment Opportunity. House needs some work ...   \n",
       "4           land  Deer Springs Ranch is an 8000 Ac Ranch in an H...   \n",
       "\n",
       "   year_built  beds  baths  baths_full  baths_half  garage  lot_sqft    sqft  \\\n",
       "0      2020.0   1.0    1.0         1.0         1.0     2.0   71438.0   696.0   \n",
       "1      1968.0   4.0    3.0         2.0         1.0     2.0   56628.0  3700.0   \n",
       "2      1985.0   4.0    3.0         3.0         1.0     1.0   10019.0  3528.0   \n",
       "3      1936.0   4.0    2.0         2.0         1.0     2.0   12632.0  2097.0   \n",
       "4      2003.0   4.0    0.0         2.0         1.0     2.0  872071.0  2400.0   \n",
       "\n",
       "   stories  lastSoldOn  listPrice    status  \n",
       "0      2.0  2018-05-31    90000.0  for_sale  \n",
       "1      2.0  2018-05-31   799000.0  for_sale  \n",
       "2      2.0  2018-05-31   389900.0  for_sale  \n",
       "3      2.0  2018-04-16   300000.0  for_sale  \n",
       "4      2.0  2018-05-31    70000.0  for_sale  "
      ]
     },
     "execution_count": 22,
     "metadata": {},
     "output_type": "execute_result"
    }
   ],
   "source": [
    "real_estate_data.head()"
   ]
  },
  {
   "cell_type": "code",
   "execution_count": 23,
   "metadata": {},
   "outputs": [
    {
     "name": "stdout",
     "output_type": "stream",
     "text": [
      "<class 'pandas.core.frame.DataFrame'>\n",
      "RangeIndex: 4440 entries, 0 to 4439\n",
      "Data columns (total 14 columns):\n",
      " #   Column      Non-Null Count  Dtype  \n",
      "---  ------      --------------  -----  \n",
      " 0   type        4440 non-null   object \n",
      " 1   text        4440 non-null   object \n",
      " 2   year_built  4440 non-null   float64\n",
      " 3   beds        4440 non-null   float64\n",
      " 4   baths       4440 non-null   float64\n",
      " 5   baths_full  4440 non-null   float64\n",
      " 6   baths_half  4440 non-null   float64\n",
      " 7   garage      4440 non-null   float64\n",
      " 8   lot_sqft    4440 non-null   float64\n",
      " 9   sqft        4440 non-null   float64\n",
      " 10  stories     4440 non-null   float64\n",
      " 11  lastSoldOn  4440 non-null   object \n",
      " 12  listPrice   4440 non-null   float64\n",
      " 13  status      4440 non-null   object \n",
      "dtypes: float64(10), object(4)\n",
      "memory usage: 485.8+ KB\n"
     ]
    }
   ],
   "source": [
    "real_estate_data.info()"
   ]
  },
  {
   "cell_type": "code",
   "execution_count": 24,
   "metadata": {},
   "outputs": [
    {
     "data": {
      "text/html": [
       "<div>\n",
       "<style scoped>\n",
       "    .dataframe tbody tr th:only-of-type {\n",
       "        vertical-align: middle;\n",
       "    }\n",
       "\n",
       "    .dataframe tbody tr th {\n",
       "        vertical-align: top;\n",
       "    }\n",
       "\n",
       "    .dataframe thead th {\n",
       "        text-align: right;\n",
       "    }\n",
       "</style>\n",
       "<table border=\"1\" class=\"dataframe\">\n",
       "  <thead>\n",
       "    <tr style=\"text-align: right;\">\n",
       "      <th></th>\n",
       "      <th>year_built</th>\n",
       "      <th>beds</th>\n",
       "      <th>baths</th>\n",
       "      <th>baths_full</th>\n",
       "      <th>baths_half</th>\n",
       "      <th>garage</th>\n",
       "      <th>lot_sqft</th>\n",
       "      <th>sqft</th>\n",
       "      <th>stories</th>\n",
       "      <th>listPrice</th>\n",
       "    </tr>\n",
       "  </thead>\n",
       "  <tbody>\n",
       "    <tr>\n",
       "      <th>count</th>\n",
       "      <td>4440.000000</td>\n",
       "      <td>4440.000000</td>\n",
       "      <td>4440.000000</td>\n",
       "      <td>4440.000000</td>\n",
       "      <td>4440.000000</td>\n",
       "      <td>4440.000000</td>\n",
       "      <td>4.440000e+03</td>\n",
       "      <td>4440.000000</td>\n",
       "      <td>4440.000000</td>\n",
       "      <td>4.440000e+03</td>\n",
       "    </tr>\n",
       "    <tr>\n",
       "      <th>mean</th>\n",
       "      <td>1997.942793</td>\n",
       "      <td>3.894595</td>\n",
       "      <td>2.454730</td>\n",
       "      <td>2.238964</td>\n",
       "      <td>1.025000</td>\n",
       "      <td>2.334234</td>\n",
       "      <td>5.525239e+05</td>\n",
       "      <td>2712.318243</td>\n",
       "      <td>1.999775</td>\n",
       "      <td>7.966044e+05</td>\n",
       "    </tr>\n",
       "    <tr>\n",
       "      <th>std</th>\n",
       "      <td>23.609067</td>\n",
       "      <td>1.265647</td>\n",
       "      <td>1.789238</td>\n",
       "      <td>1.165071</td>\n",
       "      <td>0.194672</td>\n",
       "      <td>1.024810</td>\n",
       "      <td>1.134471e+07</td>\n",
       "      <td>1553.676432</td>\n",
       "      <td>0.629134</td>\n",
       "      <td>1.731703e+06</td>\n",
       "    </tr>\n",
       "    <tr>\n",
       "      <th>min</th>\n",
       "      <td>1860.000000</td>\n",
       "      <td>1.000000</td>\n",
       "      <td>0.000000</td>\n",
       "      <td>1.000000</td>\n",
       "      <td>1.000000</td>\n",
       "      <td>0.000000</td>\n",
       "      <td>4.360000e+02</td>\n",
       "      <td>0.000000</td>\n",
       "      <td>1.000000</td>\n",
       "      <td>0.000000e+00</td>\n",
       "    </tr>\n",
       "    <tr>\n",
       "      <th>25%</th>\n",
       "      <td>1997.000000</td>\n",
       "      <td>3.000000</td>\n",
       "      <td>2.000000</td>\n",
       "      <td>2.000000</td>\n",
       "      <td>1.000000</td>\n",
       "      <td>2.000000</td>\n",
       "      <td>9.583000e+03</td>\n",
       "      <td>1842.000000</td>\n",
       "      <td>2.000000</td>\n",
       "      <td>3.538050e+05</td>\n",
       "    </tr>\n",
       "    <tr>\n",
       "      <th>50%</th>\n",
       "      <td>2003.000000</td>\n",
       "      <td>4.000000</td>\n",
       "      <td>3.000000</td>\n",
       "      <td>2.000000</td>\n",
       "      <td>1.000000</td>\n",
       "      <td>2.000000</td>\n",
       "      <td>1.393900e+04</td>\n",
       "      <td>2400.000000</td>\n",
       "      <td>2.000000</td>\n",
       "      <td>5.289950e+05</td>\n",
       "    </tr>\n",
       "    <tr>\n",
       "      <th>75%</th>\n",
       "      <td>2007.000000</td>\n",
       "      <td>4.000000</td>\n",
       "      <td>3.000000</td>\n",
       "      <td>3.000000</td>\n",
       "      <td>1.000000</td>\n",
       "      <td>2.000000</td>\n",
       "      <td>2.439400e+04</td>\n",
       "      <td>3132.000000</td>\n",
       "      <td>2.000000</td>\n",
       "      <td>7.549000e+05</td>\n",
       "    </tr>\n",
       "    <tr>\n",
       "      <th>max</th>\n",
       "      <td>2026.000000</td>\n",
       "      <td>19.000000</td>\n",
       "      <td>45.000000</td>\n",
       "      <td>45.000000</td>\n",
       "      <td>6.000000</td>\n",
       "      <td>20.000000</td>\n",
       "      <td>6.009538e+08</td>\n",
       "      <td>20905.000000</td>\n",
       "      <td>4.000000</td>\n",
       "      <td>4.800000e+07</td>\n",
       "    </tr>\n",
       "  </tbody>\n",
       "</table>\n",
       "</div>"
      ],
      "text/plain": [
       "        year_built         beds        baths   baths_full   baths_half  \\\n",
       "count  4440.000000  4440.000000  4440.000000  4440.000000  4440.000000   \n",
       "mean   1997.942793     3.894595     2.454730     2.238964     1.025000   \n",
       "std      23.609067     1.265647     1.789238     1.165071     0.194672   \n",
       "min    1860.000000     1.000000     0.000000     1.000000     1.000000   \n",
       "25%    1997.000000     3.000000     2.000000     2.000000     1.000000   \n",
       "50%    2003.000000     4.000000     3.000000     2.000000     1.000000   \n",
       "75%    2007.000000     4.000000     3.000000     3.000000     1.000000   \n",
       "max    2026.000000    19.000000    45.000000    45.000000     6.000000   \n",
       "\n",
       "            garage      lot_sqft          sqft      stories     listPrice  \n",
       "count  4440.000000  4.440000e+03   4440.000000  4440.000000  4.440000e+03  \n",
       "mean      2.334234  5.525239e+05   2712.318243     1.999775  7.966044e+05  \n",
       "std       1.024810  1.134471e+07   1553.676432     0.629134  1.731703e+06  \n",
       "min       0.000000  4.360000e+02      0.000000     1.000000  0.000000e+00  \n",
       "25%       2.000000  9.583000e+03   1842.000000     2.000000  3.538050e+05  \n",
       "50%       2.000000  1.393900e+04   2400.000000     2.000000  5.289950e+05  \n",
       "75%       2.000000  2.439400e+04   3132.000000     2.000000  7.549000e+05  \n",
       "max      20.000000  6.009538e+08  20905.000000     4.000000  4.800000e+07  "
      ]
     },
     "execution_count": 24,
     "metadata": {},
     "output_type": "execute_result"
    }
   ],
   "source": [
    "real_estate_data.describe()"
   ]
  },
  {
   "cell_type": "markdown",
   "metadata": {},
   "source": [
    "## 1.2 Understanding the Structure"
   ]
  },
  {
   "cell_type": "markdown",
   "metadata": {},
   "source": [
    "### Real Estate Data Key Features\n",
    "Column Descriptors (Pulled from Kaggle)\n",
    "- type: Type of property (e.g., single_family, land)\n",
    "- text: Description of the property\n",
    "- year_built: Year the property was built\n",
    "- beds: Number of bedrooms\n",
    "- baths: Total number of bathrooms\n",
    "- baths_full: Number of full bathrooms\n",
    "- baths_half: Number of half bathrooms\n",
    "- garage: Number of garage spaces\n",
    "- lot_sqft: Lot size in square feet\n",
    "- sqft: Property size in square feet\n",
    "- stories: Number of stories\n",
    "- lastSoldOn: Date the property was last sold\n",
    "- listPrice: Listing price of the property\n",
    "- status: Current status of the property (e.g., for_sale)\n",
    "\n",
    "Key Data Insights based on Summary Stats from .describe:\n",
    "- potential outliers in the sqft, lot_sqft, and listPrice columns\n",
    "- Data types are generally correct except for lastSoldOn, type, and status"
   ]
  },
  {
   "cell_type": "markdown",
   "metadata": {},
   "source": [
    "# Data Cleaning\n",
    "\n",
    "Initial exploration reveals possible outliers in variables like lot_sqft, sqft, and listPrice, with some unusually high values that may skew analysis. Handling these outliers will involve filtering or capping based on the overall distribution. The lastSoldOn column, representing dates, will be transformed into a more analytical format (e.g., extracting year or month). For categorical variables like type and status, label encoding or one-hot encoding will be applied based on the context of each analysis. After completing these transformations, the cleaned dataset will be exported in a standardized format for seamless integration with other analysis notebooks."
   ]
  },
  {
   "cell_type": "markdown",
   "metadata": {},
   "source": [
    "## 2.1 Handle Missing Values\n",
    "Our .info does not show any current missing null values, but for a sanity check let's take a look for null values again in case we missed anything using isnull() and sum() to identify columns with missing data.\n"
   ]
  },
  {
   "cell_type": "code",
   "execution_count": 25,
   "metadata": {},
   "outputs": [
    {
     "data": {
      "text/plain": [
       "type          0\n",
       "text          0\n",
       "year_built    0\n",
       "beds          0\n",
       "baths         0\n",
       "baths_full    0\n",
       "baths_half    0\n",
       "garage        0\n",
       "lot_sqft      0\n",
       "sqft          0\n",
       "stories       0\n",
       "lastSoldOn    0\n",
       "listPrice     0\n",
       "status        0\n",
       "dtype: int64"
      ]
     },
     "execution_count": 25,
     "metadata": {},
     "output_type": "execute_result"
    }
   ],
   "source": [
    "real_estate_data.isnull().sum()"
   ]
  },
  {
   "cell_type": "markdown",
   "metadata": {},
   "source": [
    "## 2.2 Detect and Removing Outliers\n",
    "Potential outliers with abnormally high values that might affect the study were found in the lot_sqft, sqft, and listPrice columns during preliminary investigation. Depending on the distribution of the data, we will identify these outliers and implement filtering or capping using numpy"
   ]
  },
  {
   "cell_type": "code",
   "execution_count": 26,
   "metadata": {},
   "outputs": [],
   "source": [
    "import numpy as np\n",
    "\n",
    "# Set thresholds based on percentiles to cap or filter out extreme values\n",
    "cap_thresholds = {\n",
    "    'lot_sqft': np.percentile(real_estate_data['lot_sqft'], 99),\n",
    "    'sqft': np.percentile(real_estate_data['sqft'], 99),\n",
    "    'listPrice': np.percentile(real_estate_data['listPrice'], 99)\n",
    "}\n",
    "\n",
    "# Capping outliers at the 99th percentile\n",
    "real_estate_data['lot_sqft'] = np.where(real_estate_data['lot_sqft'] > cap_thresholds['lot_sqft'], cap_thresholds['lot_sqft'], real_estate_data['lot_sqft'])\n",
    "real_estate_data['sqft'] = np.where(real_estate_data['sqft'] > cap_thresholds['sqft'], cap_thresholds['sqft'], real_estate_data['sqft'])\n",
    "real_estate_data['listPrice'] = np.where(real_estate_data['listPrice'] > cap_thresholds['listPrice'], cap_thresholds['listPrice'], real_estate_data['listPrice'])\n"
   ]
  },
  {
   "cell_type": "code",
   "execution_count": 27,
   "metadata": {},
   "outputs": [
    {
     "data": {
      "text/html": [
       "<div>\n",
       "<style scoped>\n",
       "    .dataframe tbody tr th:only-of-type {\n",
       "        vertical-align: middle;\n",
       "    }\n",
       "\n",
       "    .dataframe tbody tr th {\n",
       "        vertical-align: top;\n",
       "    }\n",
       "\n",
       "    .dataframe thead th {\n",
       "        text-align: right;\n",
       "    }\n",
       "</style>\n",
       "<table border=\"1\" class=\"dataframe\">\n",
       "  <thead>\n",
       "    <tr style=\"text-align: right;\">\n",
       "      <th></th>\n",
       "      <th>lot_sqft</th>\n",
       "      <th>sqft</th>\n",
       "      <th>listPrice</th>\n",
       "    </tr>\n",
       "  </thead>\n",
       "  <tbody>\n",
       "    <tr>\n",
       "      <th>count</th>\n",
       "      <td>4.440000e+03</td>\n",
       "      <td>4440.000000</td>\n",
       "      <td>4.440000e+03</td>\n",
       "    </tr>\n",
       "    <tr>\n",
       "      <th>mean</th>\n",
       "      <td>1.551239e+05</td>\n",
       "      <td>2686.564640</td>\n",
       "      <td>7.189413e+05</td>\n",
       "    </tr>\n",
       "    <tr>\n",
       "      <th>std</th>\n",
       "      <td>7.323574e+05</td>\n",
       "      <td>1405.229082</td>\n",
       "      <td>8.820845e+05</td>\n",
       "    </tr>\n",
       "    <tr>\n",
       "      <th>min</th>\n",
       "      <td>4.360000e+02</td>\n",
       "      <td>0.000000</td>\n",
       "      <td>0.000000e+00</td>\n",
       "    </tr>\n",
       "    <tr>\n",
       "      <th>25%</th>\n",
       "      <td>9.583000e+03</td>\n",
       "      <td>1842.000000</td>\n",
       "      <td>3.538050e+05</td>\n",
       "    </tr>\n",
       "    <tr>\n",
       "      <th>50%</th>\n",
       "      <td>1.393900e+04</td>\n",
       "      <td>2400.000000</td>\n",
       "      <td>5.289950e+05</td>\n",
       "    </tr>\n",
       "    <tr>\n",
       "      <th>75%</th>\n",
       "      <td>2.439400e+04</td>\n",
       "      <td>3132.000000</td>\n",
       "      <td>7.549000e+05</td>\n",
       "    </tr>\n",
       "    <tr>\n",
       "      <th>90%</th>\n",
       "      <td>1.630017e+05</td>\n",
       "      <td>4412.300000</td>\n",
       "      <td>1.205100e+06</td>\n",
       "    </tr>\n",
       "    <tr>\n",
       "      <th>95%</th>\n",
       "      <td>4.356000e+05</td>\n",
       "      <td>5395.250000</td>\n",
       "      <td>1.850200e+06</td>\n",
       "    </tr>\n",
       "    <tr>\n",
       "      <th>99%</th>\n",
       "      <td>6.271709e+06</td>\n",
       "      <td>8913.768000</td>\n",
       "      <td>6.837210e+06</td>\n",
       "    </tr>\n",
       "    <tr>\n",
       "      <th>max</th>\n",
       "      <td>6.298963e+06</td>\n",
       "      <td>8932.800000</td>\n",
       "      <td>6.861000e+06</td>\n",
       "    </tr>\n",
       "  </tbody>\n",
       "</table>\n",
       "</div>"
      ],
      "text/plain": [
       "           lot_sqft         sqft     listPrice\n",
       "count  4.440000e+03  4440.000000  4.440000e+03\n",
       "mean   1.551239e+05  2686.564640  7.189413e+05\n",
       "std    7.323574e+05  1405.229082  8.820845e+05\n",
       "min    4.360000e+02     0.000000  0.000000e+00\n",
       "25%    9.583000e+03  1842.000000  3.538050e+05\n",
       "50%    1.393900e+04  2400.000000  5.289950e+05\n",
       "75%    2.439400e+04  3132.000000  7.549000e+05\n",
       "90%    1.630017e+05  4412.300000  1.205100e+06\n",
       "95%    4.356000e+05  5395.250000  1.850200e+06\n",
       "99%    6.271709e+06  8913.768000  6.837210e+06\n",
       "max    6.298963e+06  8932.800000  6.861000e+06"
      ]
     },
     "execution_count": 27,
     "metadata": {},
     "output_type": "execute_result"
    }
   ],
   "source": [
    "# Check summary statistics again after capping to see if extreme values remain\n",
    "real_estate_data[['lot_sqft', 'sqft', 'listPrice']].describe(percentiles=[0.25, 0.5, 0.75, 0.9, 0.95, 0.99])\n"
   ]
  },
  {
   "cell_type": "markdown",
   "metadata": {},
   "source": [
    "After handling the outliers, it appears that extreme values in \"lot_sqft,\" \"sqft,\" and \"listPrice\" have been capped. The maximum values have been significantly reduced, especially in the \"lot_sqft\" and \"listPrice\" columns, where the original maximums were in the range of tens of millions, but the capped values are much lower, under 7 million for \"listPrice\" and around 6 million for \"lot_sqft.\" The 99th percentile also shows more reasonable values after capping."
   ]
  },
  {
   "cell_type": "markdown",
   "metadata": {},
   "source": [
    "## 2.3 Date Standardization for lastSoldOn Column\n",
    "The lastSoldOn column, representing dates, will be converted to DateTime format, allowing extraction of specific components like year and month for deeper time-based analysis."
   ]
  },
  {
   "cell_type": "code",
   "execution_count": 28,
   "metadata": {},
   "outputs": [],
   "source": [
    "# Convert 'lastSoldOn' to datetime\n",
    "real_estate_data['lastSoldOn'] = pd.to_datetime(real_estate_data['lastSoldOn'], errors='coerce')\n",
    "\n",
    "# Extract year and month for analysis\n",
    "real_estate_data['sold_year'] = real_estate_data['lastSoldOn'].dt.year\n",
    "real_estate_data['sold_month'] = real_estate_data['lastSoldOn'].dt.month\n"
   ]
  },
  {
   "cell_type": "code",
   "execution_count": 29,
   "metadata": {},
   "outputs": [
    {
     "data": {
      "text/html": [
       "<div>\n",
       "<style scoped>\n",
       "    .dataframe tbody tr th:only-of-type {\n",
       "        vertical-align: middle;\n",
       "    }\n",
       "\n",
       "    .dataframe tbody tr th {\n",
       "        vertical-align: top;\n",
       "    }\n",
       "\n",
       "    .dataframe thead th {\n",
       "        text-align: right;\n",
       "    }\n",
       "</style>\n",
       "<table border=\"1\" class=\"dataframe\">\n",
       "  <thead>\n",
       "    <tr style=\"text-align: right;\">\n",
       "      <th></th>\n",
       "      <th>type</th>\n",
       "      <th>text</th>\n",
       "      <th>year_built</th>\n",
       "      <th>beds</th>\n",
       "      <th>baths</th>\n",
       "      <th>baths_full</th>\n",
       "      <th>baths_half</th>\n",
       "      <th>garage</th>\n",
       "      <th>lot_sqft</th>\n",
       "      <th>sqft</th>\n",
       "      <th>stories</th>\n",
       "      <th>lastSoldOn</th>\n",
       "      <th>listPrice</th>\n",
       "      <th>status</th>\n",
       "      <th>sold_year</th>\n",
       "      <th>sold_month</th>\n",
       "    </tr>\n",
       "  </thead>\n",
       "  <tbody>\n",
       "    <tr>\n",
       "      <th>0</th>\n",
       "      <td>single_family</td>\n",
       "      <td>Escape to tranquility with this off-grid, unfi...</td>\n",
       "      <td>2020.0</td>\n",
       "      <td>1.0</td>\n",
       "      <td>1.0</td>\n",
       "      <td>1.0</td>\n",
       "      <td>1.0</td>\n",
       "      <td>2.0</td>\n",
       "      <td>71438.0</td>\n",
       "      <td>696.0</td>\n",
       "      <td>2.0</td>\n",
       "      <td>2018-05-31</td>\n",
       "      <td>90000.0</td>\n",
       "      <td>for_sale</td>\n",
       "      <td>2018</td>\n",
       "      <td>5</td>\n",
       "    </tr>\n",
       "    <tr>\n",
       "      <th>1</th>\n",
       "      <td>single_family</td>\n",
       "      <td>Beautiful home in the desirable Oak Hills and ...</td>\n",
       "      <td>1968.0</td>\n",
       "      <td>4.0</td>\n",
       "      <td>3.0</td>\n",
       "      <td>2.0</td>\n",
       "      <td>1.0</td>\n",
       "      <td>2.0</td>\n",
       "      <td>56628.0</td>\n",
       "      <td>3700.0</td>\n",
       "      <td>2.0</td>\n",
       "      <td>2018-05-31</td>\n",
       "      <td>799000.0</td>\n",
       "      <td>for_sale</td>\n",
       "      <td>2018</td>\n",
       "      <td>5</td>\n",
       "    </tr>\n",
       "    <tr>\n",
       "      <th>2</th>\n",
       "      <td>single_family</td>\n",
       "      <td>Welcome to your new home, nestled in the heart...</td>\n",
       "      <td>1985.0</td>\n",
       "      <td>4.0</td>\n",
       "      <td>3.0</td>\n",
       "      <td>3.0</td>\n",
       "      <td>1.0</td>\n",
       "      <td>1.0</td>\n",
       "      <td>10019.0</td>\n",
       "      <td>3528.0</td>\n",
       "      <td>2.0</td>\n",
       "      <td>2018-05-31</td>\n",
       "      <td>389900.0</td>\n",
       "      <td>for_sale</td>\n",
       "      <td>2018</td>\n",
       "      <td>5</td>\n",
       "    </tr>\n",
       "    <tr>\n",
       "      <th>3</th>\n",
       "      <td>single_family</td>\n",
       "      <td>Investment Opportunity. House needs some work ...</td>\n",
       "      <td>1936.0</td>\n",
       "      <td>4.0</td>\n",
       "      <td>2.0</td>\n",
       "      <td>2.0</td>\n",
       "      <td>1.0</td>\n",
       "      <td>2.0</td>\n",
       "      <td>12632.0</td>\n",
       "      <td>2097.0</td>\n",
       "      <td>2.0</td>\n",
       "      <td>2018-04-16</td>\n",
       "      <td>300000.0</td>\n",
       "      <td>for_sale</td>\n",
       "      <td>2018</td>\n",
       "      <td>4</td>\n",
       "    </tr>\n",
       "    <tr>\n",
       "      <th>4</th>\n",
       "      <td>land</td>\n",
       "      <td>Deer Springs Ranch is an 8000 Ac Ranch in an H...</td>\n",
       "      <td>2003.0</td>\n",
       "      <td>4.0</td>\n",
       "      <td>0.0</td>\n",
       "      <td>2.0</td>\n",
       "      <td>1.0</td>\n",
       "      <td>2.0</td>\n",
       "      <td>872071.0</td>\n",
       "      <td>2400.0</td>\n",
       "      <td>2.0</td>\n",
       "      <td>2018-05-31</td>\n",
       "      <td>70000.0</td>\n",
       "      <td>for_sale</td>\n",
       "      <td>2018</td>\n",
       "      <td>5</td>\n",
       "    </tr>\n",
       "  </tbody>\n",
       "</table>\n",
       "</div>"
      ],
      "text/plain": [
       "            type                                               text  \\\n",
       "0  single_family  Escape to tranquility with this off-grid, unfi...   \n",
       "1  single_family  Beautiful home in the desirable Oak Hills and ...   \n",
       "2  single_family  Welcome to your new home, nestled in the heart...   \n",
       "3  single_family  Investment Opportunity. House needs some work ...   \n",
       "4           land  Deer Springs Ranch is an 8000 Ac Ranch in an H...   \n",
       "\n",
       "   year_built  beds  baths  baths_full  baths_half  garage  lot_sqft    sqft  \\\n",
       "0      2020.0   1.0    1.0         1.0         1.0     2.0   71438.0   696.0   \n",
       "1      1968.0   4.0    3.0         2.0         1.0     2.0   56628.0  3700.0   \n",
       "2      1985.0   4.0    3.0         3.0         1.0     1.0   10019.0  3528.0   \n",
       "3      1936.0   4.0    2.0         2.0         1.0     2.0   12632.0  2097.0   \n",
       "4      2003.0   4.0    0.0         2.0         1.0     2.0  872071.0  2400.0   \n",
       "\n",
       "   stories lastSoldOn  listPrice    status  sold_year  sold_month  \n",
       "0      2.0 2018-05-31    90000.0  for_sale       2018           5  \n",
       "1      2.0 2018-05-31   799000.0  for_sale       2018           5  \n",
       "2      2.0 2018-05-31   389900.0  for_sale       2018           5  \n",
       "3      2.0 2018-04-16   300000.0  for_sale       2018           4  \n",
       "4      2.0 2018-05-31    70000.0  for_sale       2018           5  "
      ]
     },
     "execution_count": 29,
     "metadata": {},
     "output_type": "execute_result"
    }
   ],
   "source": [
    "#Check for new columns\n",
    "real_estate_data.head()"
   ]
  },
  {
   "cell_type": "markdown",
   "metadata": {},
   "source": [
    "## 2.4 Encoding Categorical Variables\n",
    "Categorical variables like type and status will be encoded. For variables with ordinal significance, label encoding will be used, while one-hot encoding will apply for nominal categories."
   ]
  },
  {
   "cell_type": "markdown",
   "metadata": {},
   "source": [
    "### Handling the Type Column:\n",
    "We are going to create a new column that categorizes the 'type' column into individual property types compared to \"Other\". For example, if the property type is \"Single Family\", it will remain as \"Single Family\", but if it's any other type, it will be classified as \"Other\". We are doing this to keep the original type column to answer questions for EDA, but drop it once we get to constructing the machine learning model. Perform one-hot encoding on the \"type\" column to create separate columns for each individual type. Concatenate both the new comparison column and the one-hot encoded columns."
   ]
  },
  {
   "cell_type": "code",
   "execution_count": 30,
   "metadata": {},
   "outputs": [],
   "source": [
    "# Create a new 'type_comparison' column where each 'type' is compared to 'Other'\n",
    "real_estate_data['type_comparison'] = real_estate_data['type'].apply(lambda x: x if x == 'Single Family' else 'Other')\n",
    "\n",
    "# One-hot encoding for the 'type' column (original categorical column)\n",
    "type_dummies = pd.get_dummies(real_estate_data['type'], prefix='type')\n",
    "\n",
    "# Concatenate the new column and the one-hot encoded columns with the original DataFrame\n",
    "real_estate_data = pd.concat([real_estate_data, type_dummies], axis=1)\n"
   ]
  },
  {
   "cell_type": "markdown",
   "metadata": {},
   "source": [
    "### Handling the Status Column"
   ]
  },
  {
   "cell_type": "markdown",
   "metadata": {},
   "source": [
    "For the label encoding the status: 0 represents if the property is for sale and 1 represents if the property is ready to build"
   ]
  },
  {
   "cell_type": "code",
   "execution_count": 31,
   "metadata": {},
   "outputs": [
    {
     "data": {
      "text/plain": [
       "status_encoded\n",
       "0    4185\n",
       "1     255\n",
       "Name: count, dtype: int64"
      ]
     },
     "execution_count": 31,
     "metadata": {},
     "output_type": "execute_result"
    }
   ],
   "source": [
    "from sklearn.preprocessing import LabelEncoder\n",
    "\n",
    "# Label Encoding for ordinal categories (status)\n",
    "label_encoder = LabelEncoder()\n",
    "real_estate_data['status_encoded'] = label_encoder.fit_transform(real_estate_data['status'])\n",
    "real_estate_data['status_encoded'].value_counts()"
   ]
  },
  {
   "cell_type": "markdown",
   "metadata": {},
   "source": [
    "## 2.5 Drop Duplicate values\n",
    "We can identify the duplicate columns by their naming pattern (e.g., the .1, .2, .3 suffix) and drop them, keeping only the first occurrence of each encoded column (e.g., type_condo, type_condo_townhome, etc.)."
   ]
  },
  {
   "cell_type": "code",
   "execution_count": 32,
   "metadata": {},
   "outputs": [
    {
     "data": {
      "text/plain": [
       "Index(['type', 'text', 'year_built', 'beds', 'baths', 'baths_full',\n",
       "       'baths_half', 'garage', 'lot_sqft', 'sqft', 'stories', 'lastSoldOn',\n",
       "       'listPrice', 'status', 'sold_year', 'sold_month', 'type_comparison',\n",
       "       'type_condo', 'type_condo_townhome', 'type_condo_townhome_rowhome_coop',\n",
       "       'type_condos', 'type_farm', 'type_land', 'type_mobile', 'type_other',\n",
       "       'type_single_family', 'type_townhomes', 'type_townhouse',\n",
       "       'status_encoded'],\n",
       "      dtype='object')"
      ]
     },
     "execution_count": 32,
     "metadata": {},
     "output_type": "execute_result"
    }
   ],
   "source": [
    "# Get a list of columns that match the pattern for duplicate encoded columns (e.g., columns with '.1', '.2', '.3' suffixes)\n",
    "duplicate_columns = [col for col in real_estate_data.columns if '.' in col and col.split('.')[0] in real_estate_data.columns]\n",
    "\n",
    "# Drop the duplicates, keeping the first occurrence\n",
    "real_estate_data = real_estate_data.drop(columns=duplicate_columns)\n",
    "\n",
    "# Check the updated columns in the dataset\n",
    "real_estate_data.columns\n"
   ]
  },
  {
   "cell_type": "markdown",
   "metadata": {},
   "source": [
    "## 2.5 Exporting the Cleaned Dataset\n",
    "After completing these transformations, the cleaned dataset will be exported in a standardized format to integrate seamlessly with other analysis notebooks."
   ]
  },
  {
   "cell_type": "code",
   "execution_count": 33,
   "metadata": {},
   "outputs": [],
   "source": [
    "# Exporting the cleaned data to a CSV file for further analysis\n",
    "real_estate_data.to_csv('cleaned_real_estate_utah.csv', index=False)\n"
   ]
  }
 ],
 "metadata": {
  "kernelspec": {
   "display_name": "cohort_env",
   "language": "python",
   "name": "python3"
  },
  "language_info": {
   "codemirror_mode": {
    "name": "ipython",
    "version": 3
   },
   "file_extension": ".py",
   "mimetype": "text/x-python",
   "name": "python",
   "nbconvert_exporter": "python",
   "pygments_lexer": "ipython3",
   "version": "3.12.5"
  }
 },
 "nbformat": 4,
 "nbformat_minor": 2
}
